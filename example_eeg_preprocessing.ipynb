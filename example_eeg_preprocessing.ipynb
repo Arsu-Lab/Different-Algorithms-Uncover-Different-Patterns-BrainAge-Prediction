{
 "cells": [
  {
   "cell_type": "markdown",
   "source": [
    "# EEG Preprocessing Pipeline\n",
    "This notebook demonstrates how we preprocessed the EEG data obtained from a single subject.\n",
    "## Contents\n",
    "Our preprocessing p"
   ],
   "metadata": {
    "collapsed": false
   },
   "id": "8cf2e1934bb8e702"
  },
  {
   "cell_type": "code",
   "execution_count": 1,
   "outputs": [
    {
     "name": "stdout",
     "output_type": "stream",
     "text": [
      "/bin/bash: warning: setlocale: LC_ALL: cannot change locale (en_US.UTF-8)\r\n",
      "Requirement already satisfied: mne in /home/tobias/Schreibtisch/EEG-FeatureExtraction/venv/lib/python3.11/site-packages (1.4.0)\r\n",
      "Requirement already satisfied: numpy>=1.15.4 in /home/tobias/Schreibtisch/EEG-FeatureExtraction/venv/lib/python3.11/site-packages (from mne) (1.24.4)\r\n",
      "Requirement already satisfied: scipy>=1.6.3 in /home/tobias/Schreibtisch/EEG-FeatureExtraction/venv/lib/python3.11/site-packages (from mne) (1.10.1)\r\n",
      "Requirement already satisfied: matplotlib in /home/tobias/Schreibtisch/EEG-FeatureExtraction/venv/lib/python3.11/site-packages (from mne) (3.7.1)\r\n",
      "Requirement already satisfied: tqdm in /home/tobias/.local/lib/python3.11/site-packages (from mne) (4.66.1)\r\n",
      "Requirement already satisfied: pooch>=1.5 in /home/tobias/Schreibtisch/EEG-FeatureExtraction/venv/lib/python3.11/site-packages (from mne) (1.7.0)\r\n",
      "Requirement already satisfied: decorator in /home/tobias/Schreibtisch/EEG-FeatureExtraction/venv/lib/python3.11/site-packages (from mne) (5.1.1)\r\n",
      "Requirement already satisfied: packaging in /usr/lib/python3.11/site-packages (from mne) (23.2)\r\n",
      "Requirement already satisfied: jinja2 in /home/tobias/Schreibtisch/EEG-FeatureExtraction/venv/lib/python3.11/site-packages (from mne) (3.1.2)\r\n",
      "Requirement already satisfied: platformdirs>=2.5.0 in /usr/lib/python3.11/site-packages (from pooch>=1.5->mne) (4.0.0)\r\n",
      "Requirement already satisfied: requests>=2.19.0 in /usr/lib/python3.11/site-packages (from pooch>=1.5->mne) (2.31.0)\r\n",
      "Requirement already satisfied: MarkupSafe>=2.0 in /home/tobias/Schreibtisch/EEG-FeatureExtraction/venv/lib/python3.11/site-packages (from jinja2->mne) (2.1.2)\r\n",
      "Requirement already satisfied: contourpy>=1.0.1 in /home/tobias/Schreibtisch/EEG-FeatureExtraction/venv/lib/python3.11/site-packages (from matplotlib->mne) (1.0.7)\r\n",
      "Requirement already satisfied: cycler>=0.10 in /home/tobias/Schreibtisch/EEG-FeatureExtraction/venv/lib/python3.11/site-packages (from matplotlib->mne) (0.11.0)\r\n",
      "Requirement already satisfied: fonttools>=4.22.0 in /home/tobias/Schreibtisch/EEG-FeatureExtraction/venv/lib/python3.11/site-packages (from matplotlib->mne) (4.39.3)\r\n",
      "Requirement already satisfied: kiwisolver>=1.0.1 in /home/tobias/Schreibtisch/EEG-FeatureExtraction/venv/lib/python3.11/site-packages (from matplotlib->mne) (1.4.4)\r\n",
      "Requirement already satisfied: pillow>=6.2.0 in /home/tobias/Schreibtisch/EEG-FeatureExtraction/venv/lib/python3.11/site-packages (from matplotlib->mne) (9.5.0)\r\n",
      "Requirement already satisfied: pyparsing>=2.3.1 in /home/tobias/.local/lib/python3.11/site-packages (from matplotlib->mne) (3.1.1)\r\n",
      "Requirement already satisfied: python-dateutil>=2.7 in /home/tobias/Schreibtisch/EEG-FeatureExtraction/venv/lib/python3.11/site-packages (from matplotlib->mne) (2.8.2)\r\n",
      "Requirement already satisfied: six>=1.5 in /home/tobias/Schreibtisch/EEG-FeatureExtraction/venv/lib/python3.11/site-packages (from python-dateutil>=2.7->matplotlib->mne) (1.16.0)\r\n",
      "Requirement already satisfied: charset-normalizer<4,>=2 in /usr/lib/python3.11/site-packages (from requests>=2.19.0->pooch>=1.5->mne) (3.3.2)\r\n",
      "Requirement already satisfied: idna<4,>=2.5 in /usr/lib/python3.11/site-packages (from requests>=2.19.0->pooch>=1.5->mne) (3.4)\r\n",
      "Requirement already satisfied: urllib3<3,>=1.21.1 in /usr/lib/python3.11/site-packages (from requests>=2.19.0->pooch>=1.5->mne) (1.26.18)\r\n",
      "\r\n",
      "\u001B[1m[\u001B[0m\u001B[34;49mnotice\u001B[0m\u001B[1;39;49m]\u001B[0m\u001B[39;49m A new release of pip is available: \u001B[0m\u001B[31;49m23.1.2\u001B[0m\u001B[39;49m -> \u001B[0m\u001B[32;49m23.3.1\u001B[0m\r\n",
      "\u001B[1m[\u001B[0m\u001B[34;49mnotice\u001B[0m\u001B[1;39;49m]\u001B[0m\u001B[39;49m To update, run: \u001B[0m\u001B[32;49mpip install --upgrade pip\u001B[0m\r\n",
      "/bin/bash: warning: setlocale: LC_ALL: cannot change locale (en_US.UTF-8)\r\n",
      "Requirement already satisfied: numpy in /home/tobias/Schreibtisch/EEG-FeatureExtraction/venv/lib/python3.11/site-packages (1.24.4)\r\n",
      "\r\n",
      "\u001B[1m[\u001B[0m\u001B[34;49mnotice\u001B[0m\u001B[1;39;49m]\u001B[0m\u001B[39;49m A new release of pip is available: \u001B[0m\u001B[31;49m23.1.2\u001B[0m\u001B[39;49m -> \u001B[0m\u001B[32;49m23.3.1\u001B[0m\r\n",
      "\u001B[1m[\u001B[0m\u001B[34;49mnotice\u001B[0m\u001B[1;39;49m]\u001B[0m\u001B[39;49m To update, run: \u001B[0m\u001B[32;49mpip install --upgrade pip\u001B[0m\r\n"
     ]
    }
   ],
   "source": [
    "!pip install mne\n",
    "!pip install numpy\n",
    "!pip install pickle"
   ],
   "metadata": {
    "collapsed": false,
    "ExecuteTime": {
     "end_time": "2023-12-01T12:21:31.428475051Z",
     "start_time": "2023-12-01T12:21:26.263946850Z"
    }
   },
   "id": "b14a6e35497bc3ea"
  },
  {
   "cell_type": "code",
   "execution_count": 12,
   "id": "initial_id",
   "metadata": {
    "collapsed": true,
    "ExecuteTime": {
     "end_time": "2023-12-01T12:24:19.950118336Z",
     "start_time": "2023-12-01T12:24:19.944655230Z"
    }
   },
   "outputs": [],
   "source": [
    "import mne as mne\n",
    "import numpy as np\n",
    "import pickle"
   ]
  },
  {
   "cell_type": "code",
   "execution_count": 3,
   "outputs": [],
   "source": [
    "file_ec = r\"./data/example_eeg/example_subj_EC_raw.fif.gz\"\n",
    "file_eo = r\"./data/example_eeg/example_subj_EO_raw.fif.gz\"\n",
    "\n",
    "raw_ec = mne.io.read_raw(file_ec, preload=True, verbose=False)\n",
    "raw_eo = mne.io.read_raw(file_eo, preload=True, verbose=False)"
   ],
   "metadata": {
    "collapsed": false,
    "ExecuteTime": {
     "end_time": "2023-12-01T12:21:38.237389678Z",
     "start_time": "2023-12-01T12:21:37.647706023Z"
    }
   },
   "id": "56379bfded1122ad"
  },
  {
   "cell_type": "code",
   "execution_count": 4,
   "outputs": [],
   "source": [
    "def set_montage_layout(raw):\n",
    "    raw = raw.copy()\n",
    "    montage = mne.channels.make_standard_montage(\"GSN-HydroCel-129\")\n",
    "    raw.set_eeg_reference(ref_channels=['Cz'], verbose=False)\n",
    "    raw.drop_channels([ch for ch in raw.ch_names if ch not in montage.ch_names])\n",
    "    raw.set_montage(montage)\n",
    "    return raw"
   ],
   "metadata": {
    "collapsed": false,
    "ExecuteTime": {
     "end_time": "2023-12-01T12:21:41.708759500Z",
     "start_time": "2023-12-01T12:21:41.704134265Z"
    }
   },
   "id": "4c3b4d429479984c"
  },
  {
   "cell_type": "code",
   "execution_count": 5,
   "outputs": [],
   "source": [
    "def filter_powerline_noise(raw):\n",
    "    raw = raw.copy()\n",
    "    raw = raw.filter(1, 70, verbose=False)\n",
    "    raw = raw.notch_filter(freqs=60, verbose=False)\n",
    "    return raw"
   ],
   "metadata": {
    "collapsed": false,
    "ExecuteTime": {
     "end_time": "2023-12-01T12:21:43.557902466Z",
     "start_time": "2023-12-01T12:21:43.553337006Z"
    }
   },
   "id": "f28ee58b083fb2d5"
  },
  {
   "cell_type": "code",
   "execution_count": 6,
   "outputs": [],
   "source": [
    "eeg_ec_montage = set_montage_layout(raw_ec)\n",
    "eeg_eo_montage = set_montage_layout(raw_eo)\n",
    "\n",
    "eeg_ec_filtered = filter_powerline_noise(raw_ec)\n",
    "eeg_eo_filtered = filter_powerline_noise(raw_eo)"
   ],
   "metadata": {
    "collapsed": false,
    "ExecuteTime": {
     "end_time": "2023-12-01T12:21:46.543961558Z",
     "start_time": "2023-12-01T12:21:45.696129770Z"
    }
   },
   "id": "e8ba8630e805c953"
  },
  {
   "cell_type": "code",
   "execution_count": 7,
   "outputs": [],
   "source": [
    "freq_bands = {\n",
    "    'delta': [0.5, 4],\n",
    "    'theta': [4, 7],\n",
    "    'alpha': [7, 13],\n",
    "    'beta': [13, 30],\n",
    "    'whole_spec': [0.5, 30]\n",
    "}"
   ],
   "metadata": {
    "collapsed": false,
    "ExecuteTime": {
     "end_time": "2023-12-01T12:21:48.335980136Z",
     "start_time": "2023-12-01T12:21:48.329316253Z"
    }
   },
   "id": "8ec0a13aea2b58f7"
  },
  {
   "cell_type": "code",
   "execution_count": 8,
   "outputs": [],
   "source": [
    "from config.interpolation_maps import chan_map_R5, chan_map_R12, chan_map_R20\n",
    "\n",
    "def interpolate_channels(raw, chan_map=chan_map_R12):\n",
    "    chan_groups = {}\n",
    "    for key in chan_map.keys():\n",
    "        chans = [raw.info['ch_names'].index(x) for x in chan_map[key]]\n",
    "        chan_groups[key] = chans\n",
    "    raw = mne.channels.combine_channels(raw, groups=chan_groups, method='mean', verbose=False)\n",
    "    return raw"
   ],
   "metadata": {
    "collapsed": false,
    "ExecuteTime": {
     "end_time": "2023-12-01T12:21:50.237341484Z",
     "start_time": "2023-12-01T12:21:50.231818847Z"
    }
   },
   "id": "39eca4a2ffc73e33"
  },
  {
   "cell_type": "code",
   "execution_count": 9,
   "outputs": [],
   "source": [
    "def filter_freq_bands_of_interest(raw, fboi=freq_bands, interpolate_chan=True):\n",
    "    eeg_freq_bands = dict()\n",
    "    for key in fboi.keys():\n",
    "        fb_range = fboi[key]\n",
    "        raw_temp = raw.copy().filter(fb_range[0], fb_range[1], verbose=False)\n",
    "        raw_temp = raw_temp.resample(sfreq=250)\n",
    "        if interpolate_chan:\n",
    "            raw_temp = interpolate_channels(raw_temp)\n",
    "        eeg_freq_bands[key] = raw_temp\n",
    "    return eeg_freq_bands"
   ],
   "metadata": {
    "collapsed": false,
    "ExecuteTime": {
     "end_time": "2023-12-01T12:21:52.504568883Z",
     "start_time": "2023-12-01T12:21:52.498905554Z"
    }
   },
   "id": "12f7a7cd3a9ecd68"
  },
  {
   "cell_type": "code",
   "execution_count": 10,
   "outputs": [
    {
     "name": "stdout",
     "output_type": "stream",
     "text": [
      "EEG-EC filtered in delta[0.5, 4] with dimensions (12, 9992)\n",
      "EEG-EC filtered in theta[4, 7] with dimensions (12, 9992)\n",
      "EEG-EC filtered in alpha[7, 13] with dimensions (12, 9992)\n",
      "EEG-EC filtered in beta[13, 30] with dimensions (12, 9992)\n",
      "EEG-EC filtered in whole_spec[0.5, 30] with dimensions (12, 9992)\n",
      "\n",
      "EEG-EO filtered in delta[0.5, 4] with dimensions (12, 4984)\n",
      "EEG-EO filtered in theta[4, 7] with dimensions (12, 4984)\n",
      "EEG-EO filtered in alpha[7, 13] with dimensions (12, 4984)\n",
      "EEG-EO filtered in beta[13, 30] with dimensions (12, 4984)\n",
      "EEG-EO filtered in whole_spec[0.5, 30] with dimensions (12, 4984)\n"
     ]
    }
   ],
   "source": [
    "eeg_ec_freq_bands = filter_freq_bands_of_interest(eeg_ec_filtered)\n",
    "eeg_eo_freq_bands = filter_freq_bands_of_interest(eeg_eo_filtered)\n",
    "\n",
    "for key in eeg_ec_freq_bands.keys():\n",
    "    print(f\"EEG-EC filtered in {key}{freq_bands[key]} with dimensions {np.array(eeg_ec_freq_bands[key].get_data(units='uV')).shape}\")\n",
    "print()\n",
    "for key in eeg_eo_freq_bands.keys():\n",
    "    print(f\"EEG-EO filtered in {key}{freq_bands[key]} with dimensions {np.array(eeg_eo_freq_bands[key].get_data(units='uV')).shape}\")"
   ],
   "metadata": {
    "collapsed": false,
    "ExecuteTime": {
     "end_time": "2023-12-01T12:21:55.833686328Z",
     "start_time": "2023-12-01T12:21:54.290594334Z"
    }
   },
   "id": "58572e28d1b69781"
  },
  {
   "cell_type": "code",
   "execution_count": 14,
   "outputs": [],
   "source": [
    "def save_object(obj, fname):\n",
    "    try:\n",
    "        with open(fname + \".pickle\", \"wb\") as f:\n",
    "            pickle.dump(obj, f, protocol=pickle.HIGHEST_PROTOCOL)\n",
    "    except Exception as ex:\n",
    "        print(\"Error during pickling object (Possibly unsupported):\", ex)\n",
    "\n",
    "save_object(eeg_ec_freq_bands, r\"data/example_eeg/example_subj_EC_preproc\")\n",
    "save_object(eeg_eo_freq_bands, r\"data/example_eeg/example_subj_EO_preproc\")"
   ],
   "metadata": {
    "collapsed": false,
    "ExecuteTime": {
     "end_time": "2023-12-01T12:25:02.982108469Z",
     "start_time": "2023-12-01T12:25:02.920522603Z"
    }
   },
   "id": "c5e5336deebe8999"
  }
 ],
 "metadata": {
  "kernelspec": {
   "display_name": "Python 3",
   "language": "python",
   "name": "python3"
  },
  "language_info": {
   "codemirror_mode": {
    "name": "ipython",
    "version": 2
   },
   "file_extension": ".py",
   "mimetype": "text/x-python",
   "name": "python",
   "nbconvert_exporter": "python",
   "pygments_lexer": "ipython2",
   "version": "2.7.6"
  }
 },
 "nbformat": 4,
 "nbformat_minor": 5
}
