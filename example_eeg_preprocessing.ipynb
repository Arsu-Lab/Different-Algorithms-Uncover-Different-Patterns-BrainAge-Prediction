{
 "cells": [
  {
   "cell_type": "markdown",
   "source": [
    "# EEG Preprocessing Pipeline\n",
    "This notebook demonstrates how we preprocessed the EEG data obtained from a single subject. To run the code you need to install following packages."
   ],
   "metadata": {
    "collapsed": false
   },
   "id": "8cf2e1934bb8e702"
  },
  {
   "cell_type": "code",
   "execution_count": null,
   "outputs": [],
   "source": [
    "!pip install mne\n",
    "!pip install numpy\n",
    "!pip install pickle"
   ],
   "metadata": {
    "collapsed": false
   },
   "id": "b14a6e35497bc3ea"
  },
  {
   "cell_type": "code",
   "execution_count": null,
   "id": "initial_id",
   "metadata": {
    "collapsed": true
   },
   "outputs": [],
   "source": [
    "import mne as mne\n",
    "import numpy as np\n",
    "import pickle"
   ]
  },
  {
   "cell_type": "markdown",
   "source": [
    "### Loading The RAW EEG Data"
   ],
   "metadata": {
    "collapsed": false
   },
   "id": "df67309955d23359"
  },
  {
   "cell_type": "code",
   "execution_count": null,
   "outputs": [],
   "source": [
    "# Load EEG data files for eyes-closed and eyes-open conditions\n",
    "file_path_eyes_closed = r\"./data/example_eeg/example_subj_EC_raw.fif.gz\"\n",
    "file_path_eyes_open = r\"./data/example_eeg/example_subj_EO_raw.fif.gz\"\n",
    "\n",
    "# Read raw EEG data\n",
    "raw_eeg_eyes_closed = mne.io.read_raw(file_path_eyes_closed, preload=True, verbose=False)\n",
    "raw_eeg_eyes_open = mne.io.read_raw(file_path_eyes_open, preload=True, verbose=False)"
   ],
   "metadata": {
    "collapsed": false
   },
   "id": "56379bfded1122ad"
  },
  {
   "cell_type": "markdown",
   "source": [
    "### Setting The Montage Layout\n",
    "This function, set_montage_layout, is designed to set the montage layout for raw EEG data using the MNE library in Python. It creates a standard montage layout using make_standard_montage(\"GSN-HydroCel-129\"), which specifies a particular sensor configuration (in this case, GSN HydroCel with 129 electrodes)."
   ],
   "metadata": {
    "collapsed": false
   },
   "id": "9106fdc0837c40b3"
  },
  {
   "cell_type": "code",
   "execution_count": null,
   "outputs": [],
   "source": [
    "def set_montage_layout(eeg_raw):\n",
    "    \"\"\"\n",
    "    Set the EEG montage layout for the raw data.\n",
    "\n",
    "    :param eeg_raw: mne.io.Raw - The raw EEG data.\n",
    "    :return: mne.io.Raw - The EEG data with the montage layout set.\n",
    "    \"\"\"\n",
    "    eeg_raw = eeg_raw.copy()\n",
    "    montage = mne.channels.make_standard_montage(\"GSN-HydroCel-129\")\n",
    "    eeg_raw.set_eeg_reference(ref_channels=['Cz'], verbose=False)\n",
    "    eeg_raw.drop_channels([ch for ch in eeg_raw.ch_names if ch not in montage.ch_names])\n",
    "    eeg_raw.set_montage(montage)\n",
    "    return eeg_raw"
   ],
   "metadata": {
    "collapsed": false
   },
   "id": "4c3b4d429479984c"
  },
  {
   "cell_type": "markdown",
   "source": [
    "### Filtering Noise\n",
    "The filter_powerline_noise function is designed to filter out powerline noise from raw EEG data, a common preprocessing step in EEG analysis. The EEG data is then subjected to a bandpass filter using eeg_raw.filter(1, 70, verbose=False). This filter allows frequencies between 1 Hz and 70 Hz to pass through, effectively removing very low-frequency noise (like slow drifts) and high-frequency noise (like muscle artifacts) outside this range. After bandpass filtering, a notch filter is applied specifically targeting the powerline frequency, which is typically 60 Hz in the USA (or 50 Hz in many other countries)."
   ],
   "metadata": {
    "collapsed": false
   },
   "id": "a2f44830b136b60e"
  },
  {
   "cell_type": "code",
   "execution_count": null,
   "outputs": [],
   "source": [
    "def filter_powerline_noise(eeg_raw):\n",
    "    \"\"\"\n",
    "    Filter powerline noise from EEG data.\n",
    "\n",
    "    :param eeg_raw: mne.io.Raw - The raw EEG data.\n",
    "    :return: mne.io.Raw - The EEG data with powerline noise filtered out.\n",
    "    \"\"\"\n",
    "    eeg_raw = eeg_raw.copy()\n",
    "    eeg_raw = eeg_raw.filter(1, 70, verbose=False)\n",
    "    eeg_raw = eeg_raw.notch_filter(freqs=60, verbose=False)\n",
    "    return eeg_raw"
   ],
   "metadata": {
    "collapsed": false
   },
   "id": "f28ee58b083fb2d5"
  },
  {
   "cell_type": "code",
   "execution_count": null,
   "outputs": [],
   "source": [
    "# Apply montage layout and filter powerline noise for both conditions\n",
    "eeg_eyes_closed_montage = set_montage_layout(raw_eeg_eyes_closed)\n",
    "eeg_eyes_open_montage = set_montage_layout(raw_eeg_eyes_open)\n",
    "\n",
    "eeg_eyes_closed_filtered = filter_powerline_noise(raw_eeg_eyes_closed)\n",
    "eeg_eyes_open_filtered = filter_powerline_noise(raw_eeg_eyes_open)"
   ],
   "metadata": {
    "collapsed": false
   },
   "id": "e8ba8630e805c953"
  },
  {
   "cell_type": "code",
   "execution_count": null,
   "outputs": [],
   "source": [
    "# Define frequency bands of interest\n",
    "frequency_bands = {\n",
    "    'delta': [0.5, 4],\n",
    "    'theta': [4, 7],\n",
    "    'alpha': [7, 13],\n",
    "    'beta': [13, 30],\n",
    "    'whole_spec': [0.5, 30]\n",
    "}"
   ],
   "metadata": {
    "collapsed": false
   },
   "id": "8ec0a13aea2b58f7"
  },
  {
   "cell_type": "markdown",
   "source": [
    "### Channel Interpolation\n",
    "The interpolate_channels function is designed to interpolate channels in EEG data using a specified channel mapping. We have created 3 different channel maps. You can change the mapping to chan_map_R5 (for 5 regions), chan_map_R12 (for 12 regions) and chan_map_R20 (for 20 regions)."
   ],
   "metadata": {
    "collapsed": false
   },
   "id": "d1eda54ca9a06af6"
  },
  {
   "cell_type": "code",
   "execution_count": null,
   "outputs": [],
   "source": [
    "from config.interpolation_maps import chan_map_R5, chan_map_R12, chan_map_R20\n",
    "\n",
    "def interpolate_channels(eeg_raw, channel_map=chan_map_R12):\n",
    "    \"\"\"\n",
    "    Interpolate channels in EEG data based on a given channel map.\n",
    "\n",
    "    :param eeg_raw: mne.io.Raw - The raw EEG data.\n",
    "    :param channel_map: Dict[str, List[str]] - A mapping of channel groups.\n",
    "    :return: mne.io.Raw - The EEG data with channels interpolated.\n",
    "    \"\"\"\n",
    "    channel_groups = {}\n",
    "    for key in channel_map.keys():\n",
    "        channels = [eeg_raw.info['ch_names'].index(x) for x in channel_map[key]]\n",
    "        channel_groups[key] = channels\n",
    "    eeg_raw = mne.channels.combine_channels(eeg_raw, groups=channel_groups, method='mean', verbose=False)\n",
    "    return eeg_raw"
   ],
   "metadata": {
    "collapsed": false
   },
   "id": "39eca4a2ffc73e33"
  },
  {
   "cell_type": "code",
   "outputs": [],
   "source": [
    "from matplotlib import pyplot as plt\n",
    "from src.montage_plotter import MontagePlotter\n",
    "\n",
    "montage_ec = raw_eeg_eyes_closed.get_montage()\n",
    "ch_pos_ec = montage_ec.get_positions()['ch_pos']\n",
    "cord_3d = [list(ch_pos_ec[key]) for key in ch_pos_ec.keys()]\n",
    "ch_names = list(ch_pos_ec.keys())\n",
    "\n",
    "mp = MontagePlotter(cord_3d, ch_names, chan_map_R5)\n",
    "\n",
    "mp.plot_regions_2d()\n",
    "plt.show()"
   ],
   "metadata": {
    "collapsed": false
   },
   "id": "54da6206a49176e",
   "execution_count": null
  },
  {
   "cell_type": "markdown",
   "source": [
    "### Frequency Bands of Interest\n",
    "The filter_freq_bands_of_interest function processes raw EEG data to extract specific frequency bands, each of which may be relevant for different types of analysis."
   ],
   "metadata": {
    "collapsed": false
   },
   "id": "926e2c1b60533555"
  },
  {
   "cell_type": "code",
   "execution_count": null,
   "outputs": [],
   "source": [
    "def filter_freq_bands_of_interest(eeg_raw, bands_of_interest=frequency_bands, interp_chan=True):\n",
    "    \"\"\"\n",
    "    Filter raw EEG data into different frequency bands of interest.\n",
    "\n",
    "    :param eeg_raw: mne.io.Raw - The raw EEG data.\n",
    "    :param bands_of_interest: Dict[str, List[float]] - Frequency bands to filter.\n",
    "    :param interp_chan: bool - Whether to interpolate channels.\n",
    "    :return: Dict[str, mne.io.Raw] - A dictionary of filtered EEG data by frequency bands.\n",
    "    \"\"\"\n",
    "    eeg_filtered_bands = dict()\n",
    "    for band in bands_of_interest.keys():\n",
    "        band_range = bands_of_interest[band]\n",
    "        temp_raw = eeg_raw.copy().filter(band_range[0], band_range[1], verbose=False)\n",
    "        temp_raw = temp_raw.resample(sfreq=250)\n",
    "        if interp_chan:\n",
    "            temp_raw = interpolate_channels(temp_raw)\n",
    "        eeg_filtered_bands[band] = temp_raw\n",
    "    return eeg_filtered_bands\n"
   ],
   "metadata": {
    "collapsed": false
   },
   "id": "12f7a7cd3a9ecd68"
  },
  {
   "cell_type": "code",
   "execution_count": null,
   "outputs": [],
   "source": [
    "# Filter EEG data into frequency bands of interest for both conditions\n",
    "eeg_eyes_closed_freq_bands = filter_freq_bands_of_interest(eeg_eyes_closed_filtered)\n",
    "eeg_eyes_open_freq_bands = filter_freq_bands_of_interest(eeg_eyes_open_filtered)"
   ],
   "metadata": {
    "collapsed": false
   },
   "id": "58572e28d1b69781"
  },
  {
   "cell_type": "code",
   "execution_count": null,
   "outputs": [],
   "source": [
    "def save_object_to_pickle(data_object, file_name):\n",
    "    \"\"\"\n",
    "    Save an object to a pickle file.\n",
    "\n",
    "    :param data_object: Any - The object to be saved.\n",
    "    :param file_name: str - The file path where the object will be saved.\n",
    "    \"\"\"\n",
    "    try:\n",
    "        # Opening the file in write-binary mode\n",
    "        with open(file_name + \".pickle\", \"wb\") as file:\n",
    "            # Dumping the object to a pickle file\n",
    "            pickle.dump(data_object, file, protocol=pickle.HIGHEST_PROTOCOL)\n",
    "    except Exception as error:\n",
    "        # Handling exceptions during the pickle process\n",
    "        print(\"Error during pickling object (Possibly unsupported):\", error)\n",
    "\n",
    "# Save the filtered and processed EEG data for eyes-closed condition\n",
    "save_object_to_pickle(eeg_eyes_closed_freq_bands, r\"data/example_eeg/example_subj_EC_preproc\")\n",
    "\n",
    "# Save the filtered and processed EEG data for eyes-open condition\n",
    "save_object_to_pickle(eeg_eyes_open_freq_bands, r\"data/example_eeg/example_subj_EO_preproc\")\n"
   ],
   "metadata": {
    "collapsed": false
   },
   "id": "c5e5336deebe8999"
  }
 ],
 "metadata": {
  "kernelspec": {
   "display_name": "Python 3",
   "language": "python",
   "name": "python3"
  },
  "language_info": {
   "codemirror_mode": {
    "name": "ipython",
    "version": 2
   },
   "file_extension": ".py",
   "mimetype": "text/x-python",
   "name": "python",
   "nbconvert_exporter": "python",
   "pygments_lexer": "ipython2",
   "version": "2.7.6"
  }
 },
 "nbformat": 4,
 "nbformat_minor": 5
}
