{
 "cells": [
  {
   "cell_type": "markdown",
   "source": [
    "# Example EEG Feature Extraction"
   ],
   "metadata": {
    "collapsed": false
   },
   "id": "df9441f66c500224"
  },
  {
   "cell_type": "code",
   "execution_count": 1,
   "outputs": [
    {
     "name": "stdout",
     "output_type": "stream",
     "text": [
      "/bin/bash: warning: setlocale: LC_ALL: cannot change locale (en_US.UTF-8)\r\n",
      "Requirement already satisfied: mne in /home/tobias/Schreibtisch/EEG-FeatureExtraction/venv/lib/python3.11/site-packages (1.4.0)\r\n",
      "Requirement already satisfied: numpy>=1.15.4 in /home/tobias/Schreibtisch/EEG-FeatureExtraction/venv/lib/python3.11/site-packages (from mne) (1.24.4)\r\n",
      "Requirement already satisfied: scipy>=1.6.3 in /home/tobias/Schreibtisch/EEG-FeatureExtraction/venv/lib/python3.11/site-packages (from mne) (1.10.1)\r\n",
      "Requirement already satisfied: matplotlib in /home/tobias/Schreibtisch/EEG-FeatureExtraction/venv/lib/python3.11/site-packages (from mne) (3.7.1)\r\n",
      "Requirement already satisfied: tqdm in /home/tobias/.local/lib/python3.11/site-packages (from mne) (4.66.1)\r\n",
      "Requirement already satisfied: pooch>=1.5 in /home/tobias/Schreibtisch/EEG-FeatureExtraction/venv/lib/python3.11/site-packages (from mne) (1.7.0)\r\n",
      "Requirement already satisfied: decorator in /home/tobias/Schreibtisch/EEG-FeatureExtraction/venv/lib/python3.11/site-packages (from mne) (5.1.1)\r\n",
      "Requirement already satisfied: packaging in /usr/lib/python3.11/site-packages (from mne) (23.2)\r\n",
      "Requirement already satisfied: jinja2 in /home/tobias/Schreibtisch/EEG-FeatureExtraction/venv/lib/python3.11/site-packages (from mne) (3.1.2)\r\n",
      "Requirement already satisfied: platformdirs>=2.5.0 in /usr/lib/python3.11/site-packages (from pooch>=1.5->mne) (4.0.0)\r\n",
      "Requirement already satisfied: requests>=2.19.0 in /usr/lib/python3.11/site-packages (from pooch>=1.5->mne) (2.31.0)\r\n",
      "Requirement already satisfied: MarkupSafe>=2.0 in /home/tobias/Schreibtisch/EEG-FeatureExtraction/venv/lib/python3.11/site-packages (from jinja2->mne) (2.1.2)\r\n",
      "Requirement already satisfied: contourpy>=1.0.1 in /home/tobias/Schreibtisch/EEG-FeatureExtraction/venv/lib/python3.11/site-packages (from matplotlib->mne) (1.0.7)\r\n",
      "Requirement already satisfied: cycler>=0.10 in /home/tobias/Schreibtisch/EEG-FeatureExtraction/venv/lib/python3.11/site-packages (from matplotlib->mne) (0.11.0)\r\n",
      "Requirement already satisfied: fonttools>=4.22.0 in /home/tobias/Schreibtisch/EEG-FeatureExtraction/venv/lib/python3.11/site-packages (from matplotlib->mne) (4.39.3)\r\n",
      "Requirement already satisfied: kiwisolver>=1.0.1 in /home/tobias/Schreibtisch/EEG-FeatureExtraction/venv/lib/python3.11/site-packages (from matplotlib->mne) (1.4.4)\r\n",
      "Requirement already satisfied: pillow>=6.2.0 in /home/tobias/Schreibtisch/EEG-FeatureExtraction/venv/lib/python3.11/site-packages (from matplotlib->mne) (9.5.0)\r\n",
      "Requirement already satisfied: pyparsing>=2.3.1 in /home/tobias/.local/lib/python3.11/site-packages (from matplotlib->mne) (3.1.1)\r\n",
      "Requirement already satisfied: python-dateutil>=2.7 in /home/tobias/Schreibtisch/EEG-FeatureExtraction/venv/lib/python3.11/site-packages (from matplotlib->mne) (2.8.2)\r\n",
      "Requirement already satisfied: six>=1.5 in /home/tobias/Schreibtisch/EEG-FeatureExtraction/venv/lib/python3.11/site-packages (from python-dateutil>=2.7->matplotlib->mne) (1.16.0)\r\n",
      "Requirement already satisfied: charset-normalizer<4,>=2 in /usr/lib/python3.11/site-packages (from requests>=2.19.0->pooch>=1.5->mne) (3.3.2)\r\n",
      "Requirement already satisfied: idna<4,>=2.5 in /usr/lib/python3.11/site-packages (from requests>=2.19.0->pooch>=1.5->mne) (3.4)\r\n",
      "Requirement already satisfied: urllib3<3,>=1.21.1 in /usr/lib/python3.11/site-packages (from requests>=2.19.0->pooch>=1.5->mne) (1.26.18)\r\n",
      "\r\n",
      "\u001B[1m[\u001B[0m\u001B[34;49mnotice\u001B[0m\u001B[1;39;49m]\u001B[0m\u001B[39;49m A new release of pip is available: \u001B[0m\u001B[31;49m23.1.2\u001B[0m\u001B[39;49m -> \u001B[0m\u001B[32;49m23.3.1\u001B[0m\r\n",
      "\u001B[1m[\u001B[0m\u001B[34;49mnotice\u001B[0m\u001B[1;39;49m]\u001B[0m\u001B[39;49m To update, run: \u001B[0m\u001B[32;49mpip install --upgrade pip\u001B[0m\r\n",
      "/bin/bash: warning: setlocale: LC_ALL: cannot change locale (en_US.UTF-8)\r\n",
      "Requirement already satisfied: numpy in /home/tobias/Schreibtisch/EEG-FeatureExtraction/venv/lib/python3.11/site-packages (1.24.4)\r\n",
      "\r\n",
      "\u001B[1m[\u001B[0m\u001B[34;49mnotice\u001B[0m\u001B[1;39;49m]\u001B[0m\u001B[39;49m A new release of pip is available: \u001B[0m\u001B[31;49m23.1.2\u001B[0m\u001B[39;49m -> \u001B[0m\u001B[32;49m23.3.1\u001B[0m\r\n",
      "\u001B[1m[\u001B[0m\u001B[34;49mnotice\u001B[0m\u001B[1;39;49m]\u001B[0m\u001B[39;49m To update, run: \u001B[0m\u001B[32;49mpip install --upgrade pip\u001B[0m\r\n",
      "/bin/bash: warning: setlocale: LC_ALL: cannot change locale (en_US.UTF-8)\r\n",
      "\u001B[31mERROR: Could not find a version that satisfies the requirement pickle (from versions: none)\u001B[0m\u001B[31m\r\n",
      "\u001B[0m\u001B[31mERROR: No matching distribution found for pickle\u001B[0m\u001B[31m\r\n",
      "\u001B[0m\r\n",
      "\u001B[1m[\u001B[0m\u001B[34;49mnotice\u001B[0m\u001B[1;39;49m]\u001B[0m\u001B[39;49m A new release of pip is available: \u001B[0m\u001B[31;49m23.1.2\u001B[0m\u001B[39;49m -> \u001B[0m\u001B[32;49m23.3.1\u001B[0m\r\n",
      "\u001B[1m[\u001B[0m\u001B[34;49mnotice\u001B[0m\u001B[1;39;49m]\u001B[0m\u001B[39;49m To update, run: \u001B[0m\u001B[32;49mpip install --upgrade pip\u001B[0m\r\n",
      "/bin/bash: warning: setlocale: LC_ALL: cannot change locale (en_US.UTF-8)\r\n",
      "Requirement already satisfied: mne_features in /home/tobias/Schreibtisch/EEG-FeatureExtraction/venv/lib/python3.11/site-packages (0.2.1)\r\n",
      "Requirement already satisfied: numpy in /home/tobias/Schreibtisch/EEG-FeatureExtraction/venv/lib/python3.11/site-packages (from mne_features) (1.24.4)\r\n",
      "Requirement already satisfied: scipy in /home/tobias/Schreibtisch/EEG-FeatureExtraction/venv/lib/python3.11/site-packages (from mne_features) (1.10.1)\r\n",
      "Requirement already satisfied: numba in /home/tobias/Schreibtisch/EEG-FeatureExtraction/venv/lib/python3.11/site-packages (from mne_features) (0.57.0)\r\n",
      "Requirement already satisfied: scikit-learn in /home/tobias/Schreibtisch/EEG-FeatureExtraction/venv/lib/python3.11/site-packages (from mne_features) (1.2.2)\r\n",
      "Requirement already satisfied: mne in /home/tobias/Schreibtisch/EEG-FeatureExtraction/venv/lib/python3.11/site-packages (from mne_features) (1.4.0)\r\n",
      "Requirement already satisfied: PyWavelets in /home/tobias/Schreibtisch/EEG-FeatureExtraction/venv/lib/python3.11/site-packages (from mne_features) (1.4.1)\r\n",
      "Requirement already satisfied: pandas in /home/tobias/Schreibtisch/EEG-FeatureExtraction/venv/lib/python3.11/site-packages (from mne_features) (2.0.1)\r\n",
      "Requirement already satisfied: matplotlib in /home/tobias/Schreibtisch/EEG-FeatureExtraction/venv/lib/python3.11/site-packages (from mne->mne_features) (3.7.1)\r\n",
      "Requirement already satisfied: tqdm in /home/tobias/.local/lib/python3.11/site-packages (from mne->mne_features) (4.66.1)\r\n",
      "Requirement already satisfied: pooch>=1.5 in /home/tobias/Schreibtisch/EEG-FeatureExtraction/venv/lib/python3.11/site-packages (from mne->mne_features) (1.7.0)\r\n",
      "Requirement already satisfied: decorator in /home/tobias/Schreibtisch/EEG-FeatureExtraction/venv/lib/python3.11/site-packages (from mne->mne_features) (5.1.1)\r\n",
      "Requirement already satisfied: packaging in /usr/lib/python3.11/site-packages (from mne->mne_features) (23.2)\r\n",
      "Requirement already satisfied: jinja2 in /home/tobias/Schreibtisch/EEG-FeatureExtraction/venv/lib/python3.11/site-packages (from mne->mne_features) (3.1.2)\r\n",
      "Requirement already satisfied: llvmlite<0.41,>=0.40.0dev0 in /home/tobias/Schreibtisch/EEG-FeatureExtraction/venv/lib/python3.11/site-packages (from numba->mne_features) (0.40.0)\r\n",
      "Requirement already satisfied: python-dateutil>=2.8.2 in /home/tobias/Schreibtisch/EEG-FeatureExtraction/venv/lib/python3.11/site-packages (from pandas->mne_features) (2.8.2)\r\n",
      "Requirement already satisfied: pytz>=2020.1 in /home/tobias/Schreibtisch/EEG-FeatureExtraction/venv/lib/python3.11/site-packages (from pandas->mne_features) (2023.3)\r\n",
      "Requirement already satisfied: tzdata>=2022.1 in /home/tobias/Schreibtisch/EEG-FeatureExtraction/venv/lib/python3.11/site-packages (from pandas->mne_features) (2023.3)\r\n",
      "Requirement already satisfied: joblib>=1.1.1 in /home/tobias/Schreibtisch/EEG-FeatureExtraction/venv/lib/python3.11/site-packages (from scikit-learn->mne_features) (1.2.0)\r\n",
      "Requirement already satisfied: threadpoolctl>=2.0.0 in /home/tobias/Schreibtisch/EEG-FeatureExtraction/venv/lib/python3.11/site-packages (from scikit-learn->mne_features) (3.1.0)\r\n",
      "Requirement already satisfied: platformdirs>=2.5.0 in /usr/lib/python3.11/site-packages (from pooch>=1.5->mne->mne_features) (4.0.0)\r\n",
      "Requirement already satisfied: requests>=2.19.0 in /usr/lib/python3.11/site-packages (from pooch>=1.5->mne->mne_features) (2.31.0)\r\n",
      "Requirement already satisfied: six>=1.5 in /home/tobias/Schreibtisch/EEG-FeatureExtraction/venv/lib/python3.11/site-packages (from python-dateutil>=2.8.2->pandas->mne_features) (1.16.0)\r\n",
      "Requirement already satisfied: MarkupSafe>=2.0 in /home/tobias/Schreibtisch/EEG-FeatureExtraction/venv/lib/python3.11/site-packages (from jinja2->mne->mne_features) (2.1.2)\r\n",
      "Requirement already satisfied: contourpy>=1.0.1 in /home/tobias/Schreibtisch/EEG-FeatureExtraction/venv/lib/python3.11/site-packages (from matplotlib->mne->mne_features) (1.0.7)\r\n",
      "Requirement already satisfied: cycler>=0.10 in /home/tobias/Schreibtisch/EEG-FeatureExtraction/venv/lib/python3.11/site-packages (from matplotlib->mne->mne_features) (0.11.0)\r\n",
      "Requirement already satisfied: fonttools>=4.22.0 in /home/tobias/Schreibtisch/EEG-FeatureExtraction/venv/lib/python3.11/site-packages (from matplotlib->mne->mne_features) (4.39.3)\r\n",
      "Requirement already satisfied: kiwisolver>=1.0.1 in /home/tobias/Schreibtisch/EEG-FeatureExtraction/venv/lib/python3.11/site-packages (from matplotlib->mne->mne_features) (1.4.4)\r\n",
      "Requirement already satisfied: pillow>=6.2.0 in /home/tobias/Schreibtisch/EEG-FeatureExtraction/venv/lib/python3.11/site-packages (from matplotlib->mne->mne_features) (9.5.0)\r\n",
      "Requirement already satisfied: pyparsing>=2.3.1 in /home/tobias/.local/lib/python3.11/site-packages (from matplotlib->mne->mne_features) (3.1.1)\r\n",
      "Requirement already satisfied: charset-normalizer<4,>=2 in /usr/lib/python3.11/site-packages (from requests>=2.19.0->pooch>=1.5->mne->mne_features) (3.3.2)\r\n",
      "Requirement already satisfied: idna<4,>=2.5 in /usr/lib/python3.11/site-packages (from requests>=2.19.0->pooch>=1.5->mne->mne_features) (3.4)\r\n",
      "Requirement already satisfied: urllib3<3,>=1.21.1 in /usr/lib/python3.11/site-packages (from requests>=2.19.0->pooch>=1.5->mne->mne_features) (1.26.18)\r\n",
      "\r\n",
      "\u001B[1m[\u001B[0m\u001B[34;49mnotice\u001B[0m\u001B[1;39;49m]\u001B[0m\u001B[39;49m A new release of pip is available: \u001B[0m\u001B[31;49m23.1.2\u001B[0m\u001B[39;49m -> \u001B[0m\u001B[32;49m23.3.1\u001B[0m\r\n",
      "\u001B[1m[\u001B[0m\u001B[34;49mnotice\u001B[0m\u001B[1;39;49m]\u001B[0m\u001B[39;49m To update, run: \u001B[0m\u001B[32;49mpip install --upgrade pip\u001B[0m\r\n"
     ]
    }
   ],
   "source": [
    "!pip install mne\n",
    "!pip install numpy\n",
    "!pip install pickle\n",
    "!pip install mne_features"
   ],
   "metadata": {
    "collapsed": false,
    "ExecuteTime": {
     "end_time": "2023-12-01T12:48:23.989103803Z",
     "start_time": "2023-12-01T12:48:10.471294002Z"
    }
   },
   "id": "65bbfc856d4fb587"
  },
  {
   "cell_type": "code",
   "execution_count": 2,
   "outputs": [],
   "source": [
    "import mne as mne\n",
    "import numpy as np\n",
    "import pickle\n",
    "import pandas as pd\n",
    "from mne_features.feature_extraction import extract_features, FeatureExtractor"
   ],
   "metadata": {
    "collapsed": false,
    "ExecuteTime": {
     "end_time": "2023-12-01T12:48:34.175986144Z",
     "start_time": "2023-12-01T12:48:23.975081734Z"
    }
   },
   "id": "b36f3ed5ba7a80a1"
  },
  {
   "cell_type": "code",
   "execution_count": 3,
   "id": "initial_id",
   "metadata": {
    "collapsed": true,
    "ExecuteTime": {
     "end_time": "2023-12-01T12:48:34.405583359Z",
     "start_time": "2023-12-01T12:48:34.175432732Z"
    }
   },
   "outputs": [],
   "source": [
    "def load_object(fname):\n",
    "    try:\n",
    "        with open(fname + \".pickle\", \"rb\") as f:\n",
    "            return pickle.load(f)\n",
    "    except Exception as ex:\n",
    "        print(\"Error during unpickling object (Possibly unsupported):\", ex)\n",
    "        \n",
    "eeg_ec_freq_bands = load_object(r\"data/example_eeg/example_subj_EC_preproc\")\n",
    "eeg_eo_freq_bands = load_object(r\"data/example_eeg/example_subj_EO_preproc\")"
   ]
  },
  {
   "cell_type": "code",
   "execution_count": 4,
   "outputs": [],
   "source": [
    "def make_epochs(raw, dur, ovl):\n",
    "    epochs = mne.make_fixed_length_epochs(\n",
    "        raw,\n",
    "        duration=dur,\n",
    "        overlap=ovl,\n",
    "        preload=True,\n",
    "        verbose=False\n",
    "    )\n",
    "    return np.array(epochs.get_data(units='uV'))"
   ],
   "metadata": {
    "collapsed": false,
    "ExecuteTime": {
     "end_time": "2023-12-01T12:48:34.426279143Z",
     "start_time": "2023-12-01T12:48:34.406737315Z"
    }
   },
   "id": "585c37b1cd442bc"
  },
  {
   "cell_type": "code",
   "execution_count": 5,
   "outputs": [],
   "source": [
    "feat_extc = {\n",
    "    'only_whole_spec': {\n",
    "        'pow_freq_bands',\n",
    "        'wavelet_coef_energy',\n",
    "    },\n",
    "    'methods': {\n",
    "        'std',\n",
    "        'spect_slope',\n",
    "        'svd_fisher_info',\n",
    "        'hjorth_complexity',\n",
    "        'hjorth_complexity_spect',\n",
    "        'ptp_amp',\n",
    "        'quantile',\n",
    "        'line_length',\n",
    "        'zero_crossings',\n",
    "        'skewness',\n",
    "        'kurtosis',\n",
    "        'higuchi_fd',\n",
    "        'samp_entropy',\n",
    "        'app_entropy',\n",
    "        'spect_entropy',\n",
    "        'mean',\n",
    "        'hurst_exp'\n",
    "    }\n",
    "}\n",
    "\n",
    "freq_bands_of_interest = {\n",
    "    'delta': [0.5, 4],\n",
    "    'theta': [4, 8],\n",
    "    'alpha': [8, 14],\n",
    "    'beta': [14, 30],\n",
    "    'whole_spec': [0.5, 30],\n",
    "}"
   ],
   "metadata": {
    "collapsed": false,
    "ExecuteTime": {
     "end_time": "2023-12-01T12:48:34.426905749Z",
     "start_time": "2023-12-01T12:48:34.413458353Z"
    }
   },
   "id": "6c5777baaf2420b2"
  },
  {
   "cell_type": "code",
   "execution_count": 7,
   "outputs": [],
   "source": [
    "def get_param_for_methods(methods, fboi, fb):\n",
    "    param = dict()\n",
    "    if 'quantile' in methods:\n",
    "        param['quantile__q'] = np.array([0.05, 0.25, 0.75, 0.95])\n",
    "    if 'pow_freq_bands' in methods:\n",
    "        param['pow_freq_bands__freq_bands'] = fboi\n",
    "        param['pow_freq_bands__log'] = True\n",
    "        param['pow_freq_bands__ratios_triu'] = False\n",
    "        param['pow_freq_bands__ratios'] = None\n",
    "    if 'energy_freq_bands' in methods:\n",
    "        param['energy_freq_bands__freq_bands'] = fboi\n",
    "    if 'spect_slope' in methods:\n",
    "        param['spect_slope__fmin'] = np.array([fboi[fb][0]])\n",
    "        param['spect_slope__fmax'] = np.array([fboi[fb][1]])\n",
    "        param['spect_slope__with_intercept'] = True\n",
    "    return param\n",
    "\n",
    "def extract_methods(eeg_fb_dict, epoch_dur, epoch_ovl, set_methods=feat_extc, fboi=freq_bands_of_interest):\n",
    "    methods_whole_spec = set_methods['only_whole_spec']\n",
    "    methods = set_methods['methods']\n",
    "    \n",
    "    fb_epochs = dict()\n",
    "    for key in eeg_fb_dict.keys():\n",
    "        print(f\"Extracting features in frequency band {key}\")\n",
    "        raw_fb = eeg_fb_dict[key]\n",
    "        \n",
    "        epochs = make_epochs(raw_fb.copy(), epoch_dur, epoch_ovl)\n",
    "        if key == 'whole_spec':\n",
    "            methods = set(methods).union(methods_whole_spec)\n",
    "        \n",
    "        param = get_param_for_methods(methods, fboi, key)\n",
    "        \n",
    "        features = extract_features(\n",
    "            X=epochs,\n",
    "            sfreq=raw_fb.info['sfreq'],\n",
    "            selected_funcs=methods,\n",
    "            funcs_params=param,\n",
    "            n_jobs=5,\n",
    "            ch_names=raw_fb.info['ch_names'],\n",
    "            return_as_df=True\n",
    "        )\n",
    "        fb_epochs[key] = features\n",
    "    return fb_epochs"
   ],
   "metadata": {
    "collapsed": false,
    "ExecuteTime": {
     "end_time": "2023-12-01T12:49:24.952340108Z",
     "start_time": "2023-12-01T12:49:24.933576417Z"
    }
   },
   "id": "4da333029ae03395"
  },
  {
   "cell_type": "code",
   "execution_count": 15,
   "outputs": [
    {
     "name": "stdout",
     "output_type": "stream",
     "text": [
      "Extracting features from eyes closed eeg\n",
      "Extracting features in frequency band delta\n",
      "Extracting features in frequency band theta\n",
      "Extracting features in frequency band alpha\n",
      "Extracting features in frequency band beta\n",
      "Extracting features in frequency band whole_spec\n",
      "\n",
      "Extracting features from eyes opened eeg\n",
      "Extracting features in frequency band delta\n",
      "Extracting features in frequency band theta\n",
      "Extracting features in frequency band alpha\n",
      "Extracting features in frequency band beta\n",
      "Extracting features in frequency band whole_spec\n"
     ]
    }
   ],
   "source": [
    "print(\"Extracting features from eyes closed eeg\")\n",
    "eeg_ec_features = extract_methods(\n",
    "    eeg_ec_freq_bands, \n",
    "    epoch_dur=3.9, epoch_ovl=0, \n",
    "    set_methods=feat_extc, \n",
    "    fboi=freq_bands_of_interest\n",
    ")\n",
    "print(\"\")\n",
    "print(\"Extracting features from eyes opened eeg\")\n",
    "eeg_eo_features = extract_methods(\n",
    "    eeg_eo_freq_bands, \n",
    "    epoch_dur=1.9, epoch_ovl=0, \n",
    "    set_methods=feat_extc, \n",
    "    fboi=freq_bands_of_interest\n",
    ")"
   ],
   "metadata": {
    "collapsed": false,
    "ExecuteTime": {
     "end_time": "2023-12-01T12:54:02.914796072Z",
     "start_time": "2023-12-01T12:53:54.948086761Z"
    }
   },
   "id": "8099e364c24fe423"
  },
  {
   "cell_type": "code",
   "execution_count": 13,
   "outputs": [
    {
     "name": "stdout",
     "output_type": "stream",
     "text": [
      "         R1        R2        R3        R4        R5        R6        R7   \n",
      "0 -0.439975  0.260699 -0.308980  0.185335  0.141282 -7.542704  0.366829  \\\n",
      "1  2.178752  0.142225 -0.919996 -1.317971 -2.272324  9.157061 -1.304053   \n",
      "2 -1.595772 -0.130305  0.558210  1.171818  2.048781  0.816726  1.207425   \n",
      "3 -0.429545 -0.051471  0.058538 -0.322971 -0.341625 -1.089214 -0.166099   \n",
      "4  0.344585  0.012906  0.031625  0.266926  0.463104  0.869133  0.224787   \n",
      "5 -0.114275 -0.149234  0.249515  0.445651 -0.218292 -0.326035 -0.354522   \n",
      "6 -0.519357 -0.020722  0.098017 -0.460539 -0.337000 -0.142680  0.281700   \n",
      "7  0.033943  0.025606 -0.472675 -0.508760  0.244248  0.223737 -0.143377   \n",
      "8  0.649160  0.212927  0.127218  0.278233  0.316413  0.277050  0.071139   \n",
      "9 -0.323352 -0.387368  0.498159  0.780476  0.182193  0.469174  0.146696   \n",
      "\n",
      "         R8        R9       R10       R11       R12  \n",
      "0  0.186900  0.076736  0.712260 -0.404346  0.064316  \n",
      "1 -1.531724  1.365902 -0.390867 -0.049060 -0.837109  \n",
      "2  1.438656 -0.913699  0.578220  0.119384  0.800870  \n",
      "3 -0.223582 -0.258845 -0.490758 -0.034946 -0.218154  \n",
      "4  0.160217  0.184720  0.645720 -0.012225  0.381142  \n",
      "5  0.101871 -0.173178 -0.386050  0.083575  0.224115  \n",
      "6 -0.060633 -0.740016 -0.684197 -0.295103 -0.598177  \n",
      "7 -0.481879  0.235910  0.158080  0.066668 -0.240606  \n",
      "8  0.092999  0.329979  0.229212  0.156035  0.346692  \n",
      "9  0.826245  0.420433  0.695133  0.127069  0.578048  \n"
     ]
    }
   ],
   "source": [
    "print(eeg_ec_features['delta']['mean'])"
   ],
   "metadata": {
    "collapsed": false,
    "ExecuteTime": {
     "end_time": "2023-12-01T12:52:19.896891884Z",
     "start_time": "2023-12-01T12:52:19.892333053Z"
    }
   },
   "id": "3e9baa233aa1f587"
  }
 ],
 "metadata": {
  "kernelspec": {
   "display_name": "Python 3",
   "language": "python",
   "name": "python3"
  },
  "language_info": {
   "codemirror_mode": {
    "name": "ipython",
    "version": 2
   },
   "file_extension": ".py",
   "mimetype": "text/x-python",
   "name": "python",
   "nbconvert_exporter": "python",
   "pygments_lexer": "ipython2",
   "version": "2.7.6"
  }
 },
 "nbformat": 4,
 "nbformat_minor": 5
}
