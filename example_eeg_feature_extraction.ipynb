{
 "cells": [
  {
   "cell_type": "markdown",
   "source": [
    "# Example EEG Feature Extraction"
   ],
   "metadata": {
    "collapsed": false
   },
   "id": "df9441f66c500224"
  },
  {
   "cell_type": "code",
   "execution_count": null,
   "outputs": [],
   "source": [
    "!pip install mne\n",
    "!pip install numpy\n",
    "!pip install pickle\n",
    "!pip install mne_features"
   ],
   "metadata": {
    "collapsed": false
   },
   "id": "65bbfc856d4fb587"
  },
  {
   "cell_type": "code",
   "execution_count": null,
   "outputs": [],
   "source": [
    "import mne as mne\n",
    "import numpy as np\n",
    "import pickle\n",
    "import pandas as pd\n",
    "from mne_features.feature_extraction import extract_features, FeatureExtractor"
   ],
   "metadata": {
    "collapsed": false
   },
   "id": "b36f3ed5ba7a80a1"
  },
  {
   "cell_type": "code",
   "execution_count": null,
   "id": "initial_id",
   "metadata": {
    "collapsed": true
   },
   "outputs": [],
   "source": [
    "def load_object(fname):\n",
    "    try:\n",
    "        with open(fname + \".pickle\", \"rb\") as f:\n",
    "            return pickle.load(f)\n",
    "    except Exception as ex:\n",
    "        print(\"Error during unpickling object (Possibly unsupported):\", ex)\n",
    "        \n",
    "eeg_ec_freq_bands = load_object(r\"data/example_eeg/example_subj_EC_preproc\")\n",
    "eeg_eo_freq_bands = load_object(r\"data/example_eeg/example_subj_EO_preproc\")"
   ]
  },
  {
   "cell_type": "code",
   "execution_count": null,
   "outputs": [],
   "source": [
    "def make_epochs(raw, dur, ovl):\n",
    "    epochs = mne.make_fixed_length_epochs(\n",
    "        raw,\n",
    "        duration=dur,\n",
    "        overlap=ovl,\n",
    "        preload=True,\n",
    "        verbose=False\n",
    "    )\n",
    "    return np.array(epochs.get_data(units='uV'))"
   ],
   "metadata": {
    "collapsed": false
   },
   "id": "585c37b1cd442bc"
  },
  {
   "cell_type": "code",
   "execution_count": null,
   "outputs": [],
   "source": [
    "feat_extc = {\n",
    "    'only_whole_spec': {\n",
    "        'pow_freq_bands',\n",
    "        'wavelet_coef_energy',\n",
    "    },\n",
    "    'methods': {\n",
    "        'std',\n",
    "        'spect_slope',\n",
    "        'svd_fisher_info',\n",
    "        'hjorth_complexity',\n",
    "        'hjorth_complexity_spect',\n",
    "        'ptp_amp',\n",
    "        'quantile',\n",
    "        'line_length',\n",
    "        'zero_crossings',\n",
    "        'skewness',\n",
    "        'kurtosis',\n",
    "        'higuchi_fd',\n",
    "        'samp_entropy',\n",
    "        'app_entropy',\n",
    "        'spect_entropy',\n",
    "        'mean',\n",
    "        'hurst_exp'\n",
    "    }\n",
    "}\n",
    "\n",
    "freq_bands_of_interest = {\n",
    "    'delta': [0.5, 4],\n",
    "    'theta': [4, 8],\n",
    "    'alpha': [8, 14],\n",
    "    'beta': [14, 30],\n",
    "    'whole_spec': [0.5, 30],\n",
    "}"
   ],
   "metadata": {
    "collapsed": false
   },
   "id": "6c5777baaf2420b2"
  },
  {
   "cell_type": "code",
   "execution_count": null,
   "outputs": [],
   "source": [
    "def get_param_for_methods(methods, fboi, fb):\n",
    "    param = dict()\n",
    "    if 'quantile' in methods:\n",
    "        param['quantile__q'] = np.array([0.05, 0.25, 0.75, 0.95])\n",
    "    if 'pow_freq_bands' in methods:\n",
    "        param['pow_freq_bands__freq_bands'] = fboi\n",
    "        param['pow_freq_bands__log'] = True\n",
    "        param['pow_freq_bands__ratios_triu'] = False\n",
    "        param['pow_freq_bands__ratios'] = None\n",
    "    if 'energy_freq_bands' in methods:\n",
    "        param['energy_freq_bands__freq_bands'] = fboi\n",
    "    if 'spect_slope' in methods:\n",
    "        param['spect_slope__fmin'] = np.array([fboi[fb][0]])\n",
    "        param['spect_slope__fmax'] = np.array([fboi[fb][1]])\n",
    "        param['spect_slope__with_intercept'] = True\n",
    "    return param\n",
    "\n",
    "def extract_methods(eeg_fb_dict, epoch_dur, epoch_ovl, set_methods=feat_extc, fboi=freq_bands_of_interest):\n",
    "    methods_whole_spec = set_methods['only_whole_spec']\n",
    "    methods = set_methods['methods']\n",
    "    \n",
    "    fb_epochs = dict()\n",
    "    for key in eeg_fb_dict.keys():\n",
    "        print(f\"Extracting features in frequency band {key}\")\n",
    "        raw_fb = eeg_fb_dict[key]\n",
    "        \n",
    "        epochs = make_epochs(raw_fb.copy(), epoch_dur, epoch_ovl)\n",
    "        if key == 'whole_spec':\n",
    "            methods = set(methods).union(methods_whole_spec)\n",
    "        \n",
    "        param = get_param_for_methods(methods, fboi, key)\n",
    "        \n",
    "        features = extract_features(\n",
    "            X=epochs,\n",
    "            sfreq=raw_fb.info['sfreq'],\n",
    "            selected_funcs=methods,\n",
    "            funcs_params=param,\n",
    "            n_jobs=5,\n",
    "            ch_names=raw_fb.info['ch_names'],\n",
    "            return_as_df=True\n",
    "        )\n",
    "        fb_epochs[key] = features\n",
    "    return fb_epochs"
   ],
   "metadata": {
    "collapsed": false
   },
   "id": "4da333029ae03395"
  },
  {
   "cell_type": "code",
   "execution_count": null,
   "outputs": [],
   "source": [
    "print(\"Extracting features from eyes closed eeg\")\n",
    "eeg_ec_features = extract_methods(\n",
    "    eeg_ec_freq_bands, \n",
    "    epoch_dur=3.9, epoch_ovl=0, \n",
    "    set_methods=feat_extc, \n",
    "    fboi=freq_bands_of_interest\n",
    ")\n",
    "print(\"\")\n",
    "print(\"Extracting features from eyes opened eeg\")\n",
    "eeg_eo_features = extract_methods(\n",
    "    eeg_eo_freq_bands, \n",
    "    epoch_dur=1.9, epoch_ovl=0, \n",
    "    set_methods=feat_extc, \n",
    "    fboi=freq_bands_of_interest\n",
    ")"
   ],
   "metadata": {
    "collapsed": false
   },
   "id": "8099e364c24fe423"
  },
  {
   "cell_type": "code",
   "execution_count": null,
   "outputs": [],
   "source": [
    "print(eeg_ec_features['delta']['mean'])"
   ],
   "metadata": {
    "collapsed": false
   },
   "id": "3e9baa233aa1f587"
  }
 ],
 "metadata": {
  "kernelspec": {
   "display_name": "Python 3",
   "language": "python",
   "name": "python3"
  },
  "language_info": {
   "codemirror_mode": {
    "name": "ipython",
    "version": 2
   },
   "file_extension": ".py",
   "mimetype": "text/x-python",
   "name": "python",
   "nbconvert_exporter": "python",
   "pygments_lexer": "ipython2",
   "version": "2.7.6"
  }
 },
 "nbformat": 4,
 "nbformat_minor": 5
}
