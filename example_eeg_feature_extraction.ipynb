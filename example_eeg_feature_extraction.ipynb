{
 "cells": [
  {
   "cell_type": "markdown",
   "source": [
    "# Example EEG Feature Extraction\n",
    "This notebook demonstrates the feature extraction pipeline used in the [\"paper\"](https://github.com/Arsu-Lab/Different-Algorithms-Uncover-Different-Patterns-BrainAge-Prediction/blob/main/paper/BIBM_2023.pdf). To run the code you will need to install following packages."
   ],
   "metadata": {
    "collapsed": false
   },
   "id": "df9441f66c500224"
  },
  {
   "cell_type": "code",
   "execution_count": null,
   "outputs": [],
   "source": [
    "!pip install mne\n",
    "!pip install numpy\n",
    "!pip install pickle\n",
    "!pip install mne_features"
   ],
   "metadata": {
    "collapsed": false
   },
   "id": "65bbfc856d4fb587"
  },
  {
   "cell_type": "code",
   "execution_count": null,
   "outputs": [],
   "source": [
    "import mne as mne\n",
    "import numpy as np\n",
    "import pickle\n",
    "import pandas as pd\n",
    "from mne_features.feature_extraction import extract_features"
   ],
   "metadata": {
    "collapsed": false
   },
   "id": "b36f3ed5ba7a80a1"
  },
  {
   "cell_type": "markdown",
   "source": [
    "### Loading the sample EEG data\n",
    "First we load the preprocessed eeg data for eyes closed and eyes opened. The preprocessing steps applied are demonstrated in the [\"example_eeg_preprocessing.ipynb\"](https://github.com/Arsu-Lab/Different-Algorithms-Uncover-Different-Patterns-BrainAge-Prediction/blob/main/example_eeg_preprocessing.ipynb)."
   ],
   "metadata": {
    "collapsed": false
   },
   "id": "9ab0434a22f050f9"
  },
  {
   "cell_type": "code",
   "execution_count": null,
   "id": "initial_id",
   "metadata": {
    "collapsed": true
   },
   "outputs": [],
   "source": [
    "def load_pickle_object(filename):\n",
    "    \"\"\"Load a pickle object from a file.\"\"\"\n",
    "    try:\n",
    "        with open(filename + \".pickle\", \"rb\") as file:\n",
    "            return pickle.load(file)\n",
    "    except Exception as error:\n",
    "        print(\"Error during unpickling object (Possibly unsupported):\", error)\n",
    "\n",
    "# Load EEG frequency band data for eyes closed and eyes open conditions\n",
    "eeg_closed_eyes = load_pickle_object(r\"data/example_eeg/example_subj_EC_preproc\")\n",
    "eeg_open_eyes = load_pickle_object(r\"data/example_eeg/example_subj_EO_preproc\")"
   ]
  },
  {
   "cell_type": "markdown",
   "source": [
    "### Splitting data into Epochs\n",
    "Next we split the recordings into Epochs. Therefor we defined following function."
   ],
   "metadata": {
    "collapsed": false
   },
   "id": "f6174414222b929c"
  },
  {
   "cell_type": "code",
   "execution_count": null,
   "outputs": [],
   "source": [
    "def create_epochs(eeg_data, duration, overlap):\n",
    "    \"\"\"Create fixed-length epochs from EEG data.\"\"\"\n",
    "    epochs = mne.make_fixed_length_epochs(\n",
    "        eeg_data,\n",
    "        duration=duration,\n",
    "        overlap=overlap,\n",
    "        preload=True,\n",
    "        verbose=False\n",
    "    )\n",
    "    return np.array(epochs.get_data(units='uV'))"
   ],
   "metadata": {
    "collapsed": false
   },
   "id": "585c37b1cd442bc"
  },
  {
   "cell_type": "markdown",
   "source": [
    "### Specifying feature extraction methods and frequency bands\n",
    "\n",
    "In our research, we focus on the extraction of features from specific frequency bands of EEG data. To achieve this, we utilize the [mne_feature](https://mne.tools/mne-features/) library, which offers a variety of built-in methods for feature extraction. These methods are designed to analyze different aspects of EEG signals. Methods in 'whole_spectrum_only' implement there own band-pass filter and are only applied to the whole frequency spectrum of interest (0.5-30Hz)."
   ],
   "metadata": {
    "collapsed": false
   },
   "id": "d5ef7b2b4025bd0b"
  },
  {
   "cell_type": "code",
   "execution_count": null,
   "outputs": [],
   "source": [
    "# Define feature extraction configurations\n",
    "feature_extraction_config = {\n",
    "    'whole_spectrum_only': {\n",
    "        'pow_freq_bands',\n",
    "        'wavelet_coef_energy',\n",
    "    },\n",
    "    'methods': {\n",
    "        'std', 'spect_slope', 'svd_fisher_info', 'hjorth_complexity',\n",
    "        'hjorth_complexity_spect', 'ptp_amp', 'quantile', 'line_length',\n",
    "        'zero_crossings', 'skewness', 'kurtosis', 'higuchi_fd',\n",
    "        'samp_entropy', 'app_entropy', 'spect_entropy', 'mean', 'hurst_exp'\n",
    "    }\n",
    "}\n",
    "\n",
    "# Define frequency bands of interest\n",
    "freq_bands_interest = {\n",
    "    'delta': [0.5, 4],\n",
    "    'theta': [4, 8],\n",
    "    'alpha': [8, 14],\n",
    "    'beta': [14, 30],\n",
    "    'whole_spec': [0.5, 30],\n",
    "}"
   ],
   "metadata": {
    "collapsed": false
   },
   "id": "6c5777baaf2420b2"
  },
  {
   "cell_type": "markdown",
   "source": [
    "### Extracting Features\n",
    "Following function iterates through each specified method, configuring unique parameters for each. These parameters include quantile values for the 'quantile' method, frequency band settings for 'pow_freq_bands' and 'energy_freq_bands', and frequency range settings for 'spect_slope'."
   ],
   "metadata": {
    "collapsed": false
   },
   "id": "2b5fbb6c089c0b79"
  },
  {
   "cell_type": "code",
   "execution_count": null,
   "outputs": [],
   "source": [
    "def get_parameters_for_methods(methods, freq_bands, band_key):\n",
    "    \"\"\"\n",
    "    Create parameters for the feature extraction methods.\n",
    "\n",
    "    :param methods: Set[str] - A set of method names indicating which feature extraction methods to use.\n",
    "    :param freq_bands: Dict[str, List[float]] - A dictionary where keys are band names (e.g., 'delta', 'theta')\n",
    "        and values are lists of two floats representing the frequency band range.\n",
    "    :param band_key: str - The key from the freq_bands dictionary indicating the specific frequency band to process.\n",
    "\n",
    "    :return: Dict[str, Any] - A dictionary of parameters configured for the feature extraction methods.\n",
    "    \"\"\"\n",
    "\n",
    "    # Initialize a dictionary to hold the parameters\n",
    "    parameters = dict()\n",
    "\n",
    "    # Iterate over each method in the methods set\n",
    "    for method in methods:\n",
    "        # Configure parameters for the 'quantile' method\n",
    "        if method == 'quantile':\n",
    "            parameters['quantile__q'] = np.array([0.05, 0.25, 0.75, 0.95])\n",
    "\n",
    "        # Configure parameters for the 'pow_freq_bands' method\n",
    "        elif method == 'pow_freq_bands':\n",
    "            parameters['pow_freq_bands__freq_bands'] = freq_bands\n",
    "            parameters['pow_freq_bands__log'] = True\n",
    "            parameters['pow_freq_bands__ratios_triu'] = False\n",
    "            parameters['pow_freq_bands__ratios'] = None\n",
    "\n",
    "        # Configure parameters for the 'energy_freq_bands' method\n",
    "        elif method == 'energy_freq_bands':\n",
    "            parameters['energy_freq_bands__freq_bands'] = freq_bands\n",
    "\n",
    "        # Configure parameters for the 'spect_slope' method\n",
    "        elif method == 'spect_slope':\n",
    "            parameters['spect_slope__fmin'] = np.array([freq_bands[band_key][0]])\n",
    "            parameters['spect_slope__fmax'] = np.array([freq_bands[band_key][1]])\n",
    "            parameters['spect_slope__with_intercept'] = True\n",
    "\n",
    "    # Return the configured parameters\n",
    "    return parameters"
   ],
   "metadata": {
    "collapsed": false
   },
   "id": "b4e7a185203f1ba2"
  },
  {
   "cell_type": "markdown",
   "source": [
    "The next function processes each frequency band, creating epochs from the EEG data. For the 'whole spectrum', it combines specific methods with general ones. It then utilizes the get_parameters_for_methods function to obtain the necessary parameters for feature extraction. Finally, it uses the extract_features function from the mne_features library to extract features."
   ],
   "metadata": {
    "collapsed": false
   },
   "id": "ce8ea8663a1517d2"
  },
  {
   "cell_type": "code",
   "execution_count": null,
   "outputs": [],
   "source": [
    "def extract_features_from_eeg(eeg_data_dict, epoch_duration, epoch_overlap, feature_set=feature_extraction_config, freq_bands=freq_bands_interest):\n",
    "    \"\"\"\n",
    "    Extract EEG features for each frequency band.\n",
    "\n",
    "    :param eeg_data_dict: Dict[str, mne.io.Raw] - A dictionary with keys as frequency band names and values as mne.io.Raw objects.\n",
    "    :param epoch_duration: float - Duration of each epoch in seconds.\n",
    "    :param epoch_overlap: float - Overlap between consecutive epochs in seconds.\n",
    "    :param feature_set: Dict[str, Set[str]] - A dictionary containing sets of feature extraction methods.\n",
    "        The key 'whole_spectrum_only' contains methods used for the whole spectrum.\n",
    "        The key 'methods' contains methods for all bands.\n",
    "    :param freq_bands: Dict[str, List[float]] - A dictionary mapping frequency band names to their respective frequency ranges.\n",
    "\n",
    "    :return: Dict[str, pd.DataFrame] - A dictionary where each key is a frequency band and each value is a DataFrame of extracted features.\n",
    "    \"\"\"\n",
    "\n",
    "    # Extract methods for whole spectrum analysis and general methods from the feature_set\n",
    "    whole_spec_methods = feature_set['whole_spectrum_only']\n",
    "    extraction_methods = feature_set['methods']\n",
    "    \n",
    "    # Dictionary to store extracted features for each frequency band\n",
    "    extracted_features = dict()\n",
    "\n",
    "    # Iterate over each frequency band and its corresponding EEG data\n",
    "    for band_key, eeg_data in eeg_data_dict.items():\n",
    "        print(f\"Extracting features in frequency band {band_key}\")\n",
    "        \n",
    "        # Create epochs from the EEG data\n",
    "        epochs = create_epochs(eeg_data.copy(), epoch_duration, epoch_overlap)\n",
    "\n",
    "        # If processing the whole spectrum, combine the methods specific to it with general methods\n",
    "        if band_key == 'whole_spec':\n",
    "            extraction_methods = extraction_methods.union(whole_spec_methods)\n",
    "        \n",
    "        # Get the parameters for the selected feature extraction methods\n",
    "        parameters = get_parameters_for_methods(extraction_methods, freq_bands, band_key)\n",
    "        \n",
    "        # Extract features using the mne_features library\n",
    "        features = extract_features(\n",
    "            X=epochs,  # EEG epochs\n",
    "            sfreq=eeg_data.info['sfreq'],  # Sampling frequency\n",
    "            selected_funcs=extraction_methods,  # Methods for feature extraction\n",
    "            funcs_params=parameters,  # Parameters for the methods\n",
    "            n_jobs=5,  # Number of jobs for parallel processing\n",
    "            ch_names=eeg_data.info['ch_names'],  # Channel names\n",
    "            return_as_df=True  # Return the result as a pandas DataFrame\n",
    "        )\n",
    "\n",
    "        # Store the extracted features in the dictionary\n",
    "        extracted_features[band_key] = features\n",
    "\n",
    "    # Return the dictionary containing features for each frequency band\n",
    "    return extracted_features"
   ],
   "metadata": {
    "collapsed": false
   },
   "id": "4da333029ae03395"
  },
  {
   "cell_type": "markdown",
   "source": [
    "### Computing the Features\n",
    "The code performs EEG feature extraction for two conditions: eyes closed and eyes open, using extract_features_from_eeg. It processes EEG data for each state, specifying epoch duration and overlap, and applies selected feature extraction methods. The extracted features are then stored, renamed according to their state and frequency band, concatenated into one DataFrame, and averaged, providing a comprehensive set of features for each condition."
   ],
   "metadata": {
    "collapsed": false
   },
   "id": "c596d67943513804"
  },
  {
   "cell_type": "code",
   "execution_count": null,
   "outputs": [],
   "source": [
    "# Extract features for eyes closed and eyes open conditions\n",
    "print(\"Extracting features from eyes closed EEG\")\n",
    "features_closed_eyes = extract_features_from_eeg(\n",
    "    eeg_closed_eyes, \n",
    "    epoch_duration=3.9, epoch_overlap=0, \n",
    "    feature_set=feature_extraction_config, \n",
    "    freq_bands=freq_bands_interest\n",
    ")\n",
    "print(\"\\nExtracting features from eyes opened EEG\")\n",
    "features_open_eyes = extract_features_from_eeg(\n",
    "    eeg_open_eyes, \n",
    "    epoch_duration=1.9, epoch_overlap=0, \n",
    "    feature_set=feature_extraction_config, \n",
    "    freq_bands=freq_bands_interest\n",
    ")\n",
    "\n",
    "eeg_features = {\n",
    "    'EC': features_closed_eyes,\n",
    "    'EO': features_open_eyes\n",
    "}\n",
    "\n",
    "print(\"\\nAveraging features across epochs\\n\")\n",
    "\n",
    "# Initialize an empty list to store the feature data\n",
    "subject_features = []\n",
    "\n",
    "# Iterate over each state ('EC' for eyes closed, 'EO' for eyes open) and its corresponding features\n",
    "for state, features in eeg_features.items():\n",
    "    # Iterate over each frequency band within the state and its corresponding feature data\n",
    "    for band, feature_data in features.items():\n",
    "        # Rename the columns of the feature data to include the state and frequency band\n",
    "        feature_cols = [f\"{state}_{band}_{col}\" for col in feature_data.columns.values]\n",
    "        feature_data.columns = feature_cols\n",
    "\n",
    "        # Append the renamed feature data to the list\n",
    "        subject_features.append(feature_data)\n",
    "\n",
    "# Concatenate all feature dataframes along the columns to create a single dataframe\n",
    "subject_features = pd.concat(subject_features, axis=1)\n",
    "\n",
    "# Compute the mean of the features across all epochs\n",
    "subject_features = subject_features.mean()\n",
    "\n",
    "print(\"--- Feature Extraction Finished ---\\n\")\n",
    "print(subject_features)"
   ],
   "metadata": {
    "collapsed": false
   },
   "id": "8099e364c24fe423"
  }
 ],
 "metadata": {
  "kernelspec": {
   "display_name": "Python 3",
   "language": "python",
   "name": "python3"
  },
  "language_info": {
   "codemirror_mode": {
    "name": "ipython",
    "version": 2
   },
   "file_extension": ".py",
   "mimetype": "text/x-python",
   "name": "python",
   "nbconvert_exporter": "python",
   "pygments_lexer": "ipython2",
   "version": "2.7.6"
  }
 },
 "nbformat": 4,
 "nbformat_minor": 5
}
