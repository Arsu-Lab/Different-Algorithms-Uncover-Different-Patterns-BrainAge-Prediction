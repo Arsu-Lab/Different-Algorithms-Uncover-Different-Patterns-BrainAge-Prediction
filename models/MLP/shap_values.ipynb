{
 "cells": [
  {
   "cell_type": "markdown",
   "source": [
    "# Computing SHAP Values\n",
    "For the purpose of testing, we have made available our training dataset, which includes both eyes-open and eyes-closed features for the 12 regional interpolated channels. The model parameters have been configured to match those of our top-performing model for this dataset."
   ],
   "metadata": {
    "collapsed": false
   },
   "id": "8c4e4989eefb6441"
  },
  {
   "cell_type": "code",
   "execution_count": null,
   "id": "initial_id",
   "metadata": {
    "collapsed": true
   },
   "outputs": [],
   "source": [
    "import pandas as pd\n",
    "import shap\n",
    "from sklearn.base import BaseEstimator, RegressorMixin\n",
    "from sklearn.neural_network import MLPRegressor\n",
    "from sklearn.metrics import mean_absolute_error\n",
    "from sklearn.model_selection import StratifiedGroupKFold\n",
    "from sklearn.preprocessing import StandardScaler\n",
    "import pickle"
   ]
  },
  {
   "cell_type": "code",
   "execution_count": null,
   "outputs": [],
   "source": [
    "def load_object(fname):\n",
    "    try:\n",
    "        with open(fname + \".pickle\", \"rb\") as f:\n",
    "            return pickle.load(f)\n",
    "    except Exception as ex:\n",
    "        print(\"Error during unpickling object (Possibly unsupported):\", ex)\n",
    "\n",
    "\n",
    "data = load_object('../../data/example_training_set/training_set')"
   ],
   "metadata": {
    "collapsed": false
   },
   "id": "346bac879e6f5461"
  },
  {
   "cell_type": "code",
   "execution_count": null,
   "outputs": [],
   "source": [
    "x = data['x']\n",
    "groups = data['group']\n",
    "y = data['y']\n",
    "x_names = data['x_names']\n",
    "\n",
    "print(f\"Dataset contains {len(x)} Samples of size {len(x[0])}\")"
   ],
   "metadata": {
    "collapsed": false
   },
   "id": "82095c934430b6c8"
  },
  {
   "cell_type": "code",
   "execution_count": null,
   "outputs": [],
   "source": [
    "scaler = StandardScaler()\n",
    "x = scaler.fit_transform(x)"
   ],
   "metadata": {
    "collapsed": false
   },
   "id": "9bede1a2b06134ad"
  },
  {
   "cell_type": "code",
   "execution_count": null,
   "outputs": [],
   "source": [
    "y_skf = [int(age) for age in y]\n",
    "skf_vals = []\n",
    "skf = StratifiedGroupKFold(n_splits=3, shuffle=True, random_state=126)\n",
    "for fold, (train_index, test_index) in enumerate(skf.split(x, y_skf, groups)):\n",
    "    skf_vals.append((train_index, test_index))"
   ],
   "metadata": {
    "collapsed": false
   },
   "id": "386f73c173427858"
  },
  {
   "cell_type": "code",
   "execution_count": null,
   "outputs": [],
   "source": [
    "model_param = {\n",
    "    'activation': 'tanh', \n",
    "    'alpha': 0.0001, \n",
    "    'batch_size': 8, \n",
    "    'layer1': 2000, \n",
    "    'layer2': 300, \n",
    "    'learning_rate': 'adaptive', \n",
    "    'learning_rate_init': 0.0001, \n",
    "    'num_hl': 2, \n",
    "    'solver': 'adam'\n",
    "}"
   ],
   "metadata": {
    "collapsed": false
   },
   "id": "36b0a3543980b1ec"
  },
  {
   "cell_type": "code",
   "execution_count": null,
   "outputs": [],
   "source": [
    "class MLPWrapper(BaseEstimator, RegressorMixin):\n",
    "    def __init__(self,\n",
    "                 layer1=None,\n",
    "                 layer2=None,\n",
    "                 num_hl=None,\n",
    "                 batch_size=None,\n",
    "                 activation=None,\n",
    "                 solver=None,\n",
    "                 learning_rate=None,\n",
    "                 learning_rate_init=None,\n",
    "                 alpha=None):\n",
    "        self.layer1 = layer1\n",
    "        self.layer2 = layer2\n",
    "        self.num_hl = num_hl\n",
    "        self.batch_size = batch_size\n",
    "        self.activation = activation\n",
    "        self.solver = solver\n",
    "        self.learning_rate = learning_rate\n",
    "        self.learning_rate_init = learning_rate_init\n",
    "        self.alpha = alpha\n",
    "\n",
    "    def fit(self, x_train, y_train):\n",
    "        print([self.layer1, self.layer2][-1*self.num_hl:])\n",
    "        print(self.solver)\n",
    "        print(self.learning_rate_init)\n",
    "        print(self.activation)\n",
    "        print(self.alpha)\n",
    "        model_mlp = MLPRegressor(\n",
    "            hidden_layer_sizes=[self.layer1, self.layer2][-1*self.num_hl:],\n",
    "            max_iter=300,\n",
    "            activation=self.activation,\n",
    "            batch_size=self.batch_size,\n",
    "            solver=self.solver,\n",
    "            learning_rate=self.learning_rate,\n",
    "            learning_rate_init=self.learning_rate_init,\n",
    "            alpha=self.alpha\n",
    "        )\n",
    "        model_mlp.fit(x_train, y_train)\n",
    "        self.model = model_mlp\n",
    "        return self\n",
    "\n",
    "    def predict(self, x_train):\n",
    "        return self.model.predict(x_train)\n",
    "\n",
    "    def score(self, x_train, y_train):\n",
    "        return self.model.score(x_train, y_train)"
   ],
   "metadata": {
    "collapsed": false
   },
   "id": "1bd79eec94fa4985"
  },
  {
   "cell_type": "code",
   "execution_count": null,
   "outputs": [],
   "source": [
    "best_fold = 0\n",
    "best_score = 5\n",
    "best_model = None\n",
    "for fold in range(len(skf_vals)):\n",
    "    x_train = [x[i] for i in skf_vals[fold][0]]\n",
    "    x_test = [x[i] for i in skf_vals[fold][1]]\n",
    "    y_train = [y[i] for i in skf_vals[fold][0]]\n",
    "    y_test = [y[i] for i in skf_vals[fold][1]]\n",
    "\n",
    "    model = MLPWrapper(**model_param)\n",
    "    model.fit(x_train, y_train)\n",
    "\n",
    "    preds = model.predict(x_test)\n",
    "    mae = mean_absolute_error(y_test, preds)\n",
    "    if mae < best_score:\n",
    "        best_fold = fold\n",
    "        best_score = mae\n",
    "        best_model = model"
   ],
   "metadata": {
    "collapsed": false
   },
   "id": "117c310e4ee83e49"
  },
  {
   "cell_type": "code",
   "execution_count": null,
   "outputs": [],
   "source": [
    "x_train = [x[i] for i in skf_vals[best_fold][0]]\n",
    "x_test = [x[i] for i in skf_vals[best_fold][1]]\n",
    "y_train = [y[i] for i in skf_vals[best_fold][0]]\n",
    "y_test = [y[i] for i in skf_vals[best_fold][1]]\n",
    "\n",
    "x_train_df = pd.DataFrame(x_train, columns=x_names)\n",
    "x_test_df = pd.DataFrame(x_test, columns=x_names)\n",
    "\n",
    "# Initialize the shap explainer\n",
    "explainer = shap.KernelExplainer(best_model.predict, shap.sample(x_train_df, 10), num_jobs=-2)\n",
    "\n",
    "# Compute Shap values for all instances in X_test\n",
    "shap_values = explainer.shap_values(x_test_df)"
   ],
   "metadata": {
    "collapsed": false
   },
   "id": "9fdd3303d00aff84"
  }
 ],
 "metadata": {
  "kernelspec": {
   "display_name": "Python 3",
   "language": "python",
   "name": "python3"
  },
  "language_info": {
   "codemirror_mode": {
    "name": "ipython",
    "version": 2
   },
   "file_extension": ".py",
   "mimetype": "text/x-python",
   "name": "python",
   "nbconvert_exporter": "python",
   "pygments_lexer": "ipython2",
   "version": "2.7.6"
  }
 },
 "nbformat": 4,
 "nbformat_minor": 5
}
