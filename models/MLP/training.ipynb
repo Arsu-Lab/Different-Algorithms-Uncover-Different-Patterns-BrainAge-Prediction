{
 "cells": [
  {
   "cell_type": "markdown",
   "source": [
    "# Hyper-Parameter Tuning for BaggedKNN"
   ],
   "metadata": {
    "collapsed": false
   },
   "id": "f8ce93919ca18f68"
  },
  {
   "cell_type": "code",
   "execution_count": null,
   "outputs": [],
   "source": [
    "!pip install scikit-optimize\n",
    "!pip install scikit-learn\n",
    "!pip install pandas"
   ],
   "metadata": {
    "collapsed": false
   },
   "id": "72f90bc8f4e4ef9f"
  },
  {
   "cell_type": "code",
   "execution_count": null,
   "outputs": [],
   "source": [
    "import pandas as pd\n",
    "from sklearn.neural_network import MLPRegressor\n",
    "from sklearn.base import BaseEstimator, RegressorMixin\n",
    "from sklearn.model_selection import StratifiedGroupKFold\n",
    "from sklearn.preprocessing import StandardScaler\n",
    "from skopt import BayesSearchCV\n",
    "from skopt.space import Integer, Categorical, Real"
   ],
   "metadata": {
    "collapsed": false
   },
   "id": "e7632ae9fd486f9"
  },
  {
   "cell_type": "code",
   "execution_count": null,
   "id": "initial_id",
   "metadata": {
    "collapsed": true
   },
   "outputs": [],
   "source": [
    "x = \"your/eeg_features/as/array\"\n",
    "groups = \"your/groups/as/array\"\n",
    "y = \"your/subject_ages/as/array\""
   ]
  },
  {
   "cell_type": "code",
   "execution_count": null,
   "outputs": [],
   "source": [
    "y_skf = [int(age) for age in y]\n",
    "skf_idx = []\n",
    "skf = StratifiedGroupKFold(n_splits=3, shuffle=True, random_state=126)\n",
    "for fold, (train_index, test_index) in enumerate(skf.split(x, y_skf, groups)):\n",
    "    skf_idx.append((train_index, test_index))"
   ],
   "metadata": {
    "collapsed": false
   },
   "id": "51f7ce569a5daf10"
  },
  {
   "cell_type": "code",
   "execution_count": null,
   "outputs": [],
   "source": [
    "scaler = StandardScaler()\n",
    "x = scaler.fit_transform(x)"
   ],
   "metadata": {
    "collapsed": false
   },
   "id": "b7efb0d8bc436e08"
  },
  {
   "cell_type": "code",
   "execution_count": null,
   "outputs": [],
   "source": [
    "class MLPWrapper(BaseEstimator, RegressorMixin):\n",
    "    def __init__(self,\n",
    "                 layer1=None,\n",
    "                 layer2=None,\n",
    "                 num_hl=None,\n",
    "                 batch_size=None,\n",
    "                 activation=None,\n",
    "                 solver=None,\n",
    "                 learning_rate=None,\n",
    "                 learning_rate_init=None,\n",
    "                 alpha=None):\n",
    "        self.layer1 = layer1\n",
    "        self.layer2 = layer2\n",
    "        self.num_hl = num_hl\n",
    "        self.batch_size = batch_size\n",
    "        self.activation = activation\n",
    "        self.solver = solver\n",
    "        self.learning_rate = learning_rate\n",
    "        self.learning_rate_init = learning_rate_init\n",
    "        self.alpha = alpha\n",
    "\n",
    "    def fit(self, x_train, y_train):\n",
    "        print([self.layer1, self.layer2][-1*self.num_hl:])\n",
    "        print(self.solver)\n",
    "        print(self.learning_rate_init)\n",
    "        print(self.activation)\n",
    "        print(self.alpha)\n",
    "        model_mlp = MLPRegressor(\n",
    "            hidden_layer_sizes=[self.layer1, self.layer2][-1*self.num_hl:],\n",
    "            max_iter=300,\n",
    "            activation=self.activation,\n",
    "            batch_size=self.batch_size,\n",
    "            solver=self.solver,\n",
    "            learning_rate=self.learning_rate,\n",
    "            learning_rate_init=self.learning_rate_init,\n",
    "            alpha=self.alpha\n",
    "        )\n",
    "        model_mlp.fit(x_train, y_train)\n",
    "        self.model = model_mlp\n",
    "        return self\n",
    "\n",
    "    def predict(self, x_train):\n",
    "        return self.model.predict(x_train)\n",
    "\n",
    "    def score(self, x_train, y_train):\n",
    "        return self.model.score(x_train, y_train)\n",
    "\n",
    "model = MLPWrapper()"
   ],
   "metadata": {
    "collapsed": false
   },
   "id": "cc46584f791a39c1"
  },
  {
   "cell_type": "code",
   "execution_count": null,
   "outputs": [],
   "source": [
    "parameter_space = {\n",
    "    'layer1': Integer(1000, 2000),\n",
    "    'layer2': Integer(300, 1000),\n",
    "    'num_hl': Integer(1, 2),\n",
    "    'batch_size': Categorical([8, 32, 128, 256, 512]),\n",
    "    'activation': Categorical(['tanh']),\n",
    "    'solver': Categorical(['adam']),\n",
    "    'alpha': Real(0.00001, 0.0001),\n",
    "    'learning_rate': Categorical(['adaptive']),\n",
    "    'learning_rate_init': Real(0.0001, 0.1)\n",
    "}\n",
    "\n",
    "clf = BayesSearchCV(\n",
    "    estimator=model,\n",
    "    search_spaces=parameter_space,\n",
    "    n_iter=30,\n",
    "    cv=skf_idx,\n",
    "    scoring='neg_mean_absolute_error',\n",
    "    n_jobs=-3\n",
    ")\n",
    "\n",
    "clf.fit(x, y=y)"
   ],
   "metadata": {
    "collapsed": false
   },
   "id": "8eab797ea82268f8"
  },
  {
   "cell_type": "code",
   "execution_count": null,
   "outputs": [],
   "source": [
    "print(clf.cv_results_)\n",
    "print(clf.best_score_)\n",
    "print(clf.best_params_)\n",
    "results = pd.DataFrame(clf.cv_results_)"
   ],
   "metadata": {
    "collapsed": false
   },
   "id": "4e1ad379b9e00cc1"
  }
 ],
 "metadata": {
  "kernelspec": {
   "display_name": "Python 3",
   "language": "python",
   "name": "python3"
  },
  "language_info": {
   "codemirror_mode": {
    "name": "ipython",
    "version": 2
   },
   "file_extension": ".py",
   "mimetype": "text/x-python",
   "name": "python",
   "nbconvert_exporter": "python",
   "pygments_lexer": "ipython2",
   "version": "2.7.6"
  }
 },
 "nbformat": 4,
 "nbformat_minor": 5
}
