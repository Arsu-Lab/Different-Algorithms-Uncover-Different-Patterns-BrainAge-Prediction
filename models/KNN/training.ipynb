{
 "cells": [
  {
   "cell_type": "markdown",
   "source": [
    "# Hyper-Parameter Tuning for BaggedKNN"
   ],
   "metadata": {
    "collapsed": false
   },
   "id": "f8ce93919ca18f68"
  },
  {
   "cell_type": "code",
   "execution_count": null,
   "outputs": [],
   "source": [
    "!pip install scikit-optimize\n",
    "!pip install scikit-learn\n",
    "!pip install pandas"
   ],
   "metadata": {
    "collapsed": false
   },
   "id": "72f90bc8f4e4ef9f"
  },
  {
   "cell_type": "code",
   "execution_count": null,
   "outputs": [],
   "source": [
    "import pandas as pd\n",
    "from sklearn.model_selection import StratifiedGroupKFold\n",
    "from sklearn.neighbors import KNeighborsRegressor\n",
    "from sklearn.preprocessing import StandardScaler\n",
    "from skopt import BayesSearchCV"
   ],
   "metadata": {
    "collapsed": false
   },
   "id": "e7632ae9fd486f9"
  },
  {
   "cell_type": "code",
   "execution_count": null,
   "id": "initial_id",
   "metadata": {
    "collapsed": true
   },
   "outputs": [],
   "source": [
    "x = \"your/eeg_features/as/array\"\n",
    "groups = \"your/groups/as/array\"\n",
    "y = \"your/subject_ages/as/array\""
   ]
  },
  {
   "cell_type": "code",
   "execution_count": null,
   "outputs": [],
   "source": [
    "y_skf = [int(age) for age in y]\n",
    "skf_idx = []\n",
    "skf = StratifiedGroupKFold(n_splits=3, shuffle=True, random_state=126)\n",
    "for fold, (train_index, test_index) in enumerate(skf.split(x, y_skf, groups)):\n",
    "    skf_idx.append((train_index, test_index))"
   ],
   "metadata": {
    "collapsed": false
   },
   "id": "51f7ce569a5daf10"
  },
  {
   "cell_type": "code",
   "execution_count": null,
   "outputs": [],
   "source": [
    "scaler = StandardScaler()\n",
    "x = scaler.fit_transform(x)"
   ],
   "metadata": {
    "collapsed": false
   },
   "id": "b7efb0d8bc436e08"
  },
  {
   "cell_type": "code",
   "execution_count": null,
   "outputs": [],
   "source": [
    "model = KNeighborsRegressor(n_jobs=-2)"
   ],
   "metadata": {
    "collapsed": false
   },
   "id": "cc46584f791a39c1"
  },
  {
   "cell_type": "code",
   "execution_count": null,
   "outputs": [],
   "source": [
    "parameter_space = {\n",
    "    'n_neighbors': [3, 50],\n",
    "    'leaf_size': [3, 100],\n",
    "    'p': [1, 2]\n",
    "}\n",
    "\n",
    "clf = BayesSearchCV(estimator=model,\n",
    "                    search_spaces=parameter_space,\n",
    "                    cv=skf_idx,\n",
    "                    scoring='neg_mean_absolute_error',\n",
    "                    verbose=4)\n",
    "\n",
    "clf.fit(x, y=y)"
   ],
   "metadata": {
    "collapsed": false
   },
   "id": "8eab797ea82268f8"
  },
  {
   "cell_type": "code",
   "execution_count": null,
   "outputs": [],
   "source": [
    "print(clf.cv_results_)\n",
    "print(clf.best_score_)\n",
    "print(clf.best_params_)\n",
    "results = pd.DataFrame(clf.cv_results_)"
   ],
   "metadata": {
    "collapsed": false
   },
   "id": "4e1ad379b9e00cc1"
  }
 ],
 "metadata": {
  "kernelspec": {
   "display_name": "Python 3",
   "language": "python",
   "name": "python3"
  },
  "language_info": {
   "codemirror_mode": {
    "name": "ipython",
    "version": 2
   },
   "file_extension": ".py",
   "mimetype": "text/x-python",
   "name": "python",
   "nbconvert_exporter": "python",
   "pygments_lexer": "ipython2",
   "version": "2.7.6"
  }
 },
 "nbformat": 4,
 "nbformat_minor": 5
}
