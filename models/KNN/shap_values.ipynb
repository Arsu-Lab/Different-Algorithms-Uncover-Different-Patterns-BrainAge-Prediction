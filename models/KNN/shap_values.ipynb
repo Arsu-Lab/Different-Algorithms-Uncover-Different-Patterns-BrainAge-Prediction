{
 "cells": [
  {
   "cell_type": "markdown",
   "source": [
    "# Computing SHAP Values\n",
    "For the purpose of testing, we have made available our training dataset, which includes both eyes-open and eyes-closed features for the 12 regional interpolated channels. The model parameters have been configured to match those of our top-performing model for this dataset."
   ],
   "metadata": {
    "collapsed": false
   },
   "id": "ec2f4fed927f4641"
  },
  {
   "cell_type": "code",
   "execution_count": null,
   "id": "initial_id",
   "metadata": {
    "collapsed": true
   },
   "outputs": [],
   "source": [
    "import pandas as pd\n",
    "import shap\n",
    "from sklearn.neighbors import KNeighborsRegressor\n",
    "from sklearn.metrics import mean_absolute_error\n",
    "from sklearn.model_selection import StratifiedGroupKFold\n",
    "from sklearn.preprocessing import StandardScaler\n",
    "import pickle"
   ]
  },
  {
   "cell_type": "code",
   "execution_count": null,
   "outputs": [],
   "source": [
    "def load_object(fname):\n",
    "    try:\n",
    "        with open(fname + \".pickle\", \"rb\") as f:\n",
    "            return pickle.load(f)\n",
    "    except Exception as ex:\n",
    "        print(\"Error during unpickling object (Possibly unsupported):\", ex)\n",
    "\n",
    "\n",
    "data = load_object('../../data/example_training_set/training_set')"
   ],
   "metadata": {
    "collapsed": false
   },
   "id": "346bac879e6f5461"
  },
  {
   "cell_type": "code",
   "execution_count": null,
   "outputs": [],
   "source": [
    "x = data['x']\n",
    "groups = data['group']\n",
    "y = data['y']\n",
    "x_names = data['x_names']\n",
    "\n",
    "print(f\"Dataset contains {len(x)} Samples of size {len(x[0])}\")"
   ],
   "metadata": {
    "collapsed": false
   },
   "id": "6481fe58f1b02f31"
  },
  {
   "cell_type": "code",
   "execution_count": null,
   "outputs": [],
   "source": [
    "scaler = StandardScaler()\n",
    "x = scaler.fit_transform(x)"
   ],
   "metadata": {
    "collapsed": false
   },
   "id": "9bede1a2b06134ad"
  },
  {
   "cell_type": "code",
   "execution_count": null,
   "outputs": [],
   "source": [
    "y_skf = [int(age) for age in y]\n",
    "skf_vals = []\n",
    "skf = StratifiedGroupKFold(n_splits=3, shuffle=True, random_state=126)\n",
    "for fold, (train_index, test_index) in enumerate(skf.split(x, y_skf, groups)):\n",
    "    skf_vals.append((train_index, test_index))"
   ],
   "metadata": {
    "collapsed": false
   },
   "id": "386f73c173427858"
  },
  {
   "cell_type": "code",
   "execution_count": null,
   "outputs": [],
   "source": [
    "model_param = {\n",
    "    'n_neighbors': 21,\n",
    "    'leaf_size': 98,\n",
    "    'p': 1\n",
    "}"
   ],
   "metadata": {
    "collapsed": false
   },
   "id": "36b0a3543980b1ec"
  },
  {
   "cell_type": "code",
   "execution_count": null,
   "outputs": [],
   "source": [
    "best_fold = 0\n",
    "best_score = 5\n",
    "best_model = None\n",
    "for fold in range(len(skf_vals)):\n",
    "    x_train = [x[i] for i in skf_vals[fold][0]]\n",
    "    x_test = [x[i] for i in skf_vals[fold][1]]\n",
    "    y_train = [y[i] for i in skf_vals[fold][0]]\n",
    "    y_test = [y[i] for i in skf_vals[fold][1]]\n",
    "\n",
    "    model = KNeighborsRegressor(**model_param, n_jobs=30)\n",
    "    model.fit(x_train, y=y_train)\n",
    "\n",
    "    preds = model.predict(x_test)\n",
    "    mae = mean_absolute_error(y_test, preds)\n",
    "    if mae < best_score:\n",
    "        best_fold = fold\n",
    "        best_score = mae\n",
    "        best_model = model"
   ],
   "metadata": {
    "collapsed": false
   },
   "id": "117c310e4ee83e49"
  },
  {
   "cell_type": "code",
   "execution_count": null,
   "outputs": [],
   "source": [
    "x_train = [x[i] for i in skf_vals[best_fold][0]]\n",
    "x_test = [x[i] for i in skf_vals[best_fold][1]]\n",
    "y_train = [y[i] for i in skf_vals[best_fold][0]]\n",
    "y_test = [y[i] for i in skf_vals[best_fold][1]]\n",
    "\n",
    "x_train_df = pd.DataFrame(x_train, columns=x_names)\n",
    "x_test_df = pd.DataFrame(x_test, columns=x_names)\n",
    "\n",
    "# Initialize the shap explainer\n",
    "explainer = shap.KernelExplainer(best_model.predict, shap.sample(x_train_df, 10), num_jobs=-2)\n",
    "\n",
    "# Compute Shap values for all instances in X_test\n",
    "shap_values = explainer.shap_values(x_test_df)"
   ],
   "metadata": {
    "collapsed": false
   },
   "id": "9fdd3303d00aff84"
  }
 ],
 "metadata": {
  "kernelspec": {
   "display_name": "Python 3",
   "language": "python",
   "name": "python3"
  },
  "language_info": {
   "codemirror_mode": {
    "name": "ipython",
    "version": 2
   },
   "file_extension": ".py",
   "mimetype": "text/x-python",
   "name": "python",
   "nbconvert_exporter": "python",
   "pygments_lexer": "ipython2",
   "version": "2.7.6"
  }
 },
 "nbformat": 4,
 "nbformat_minor": 5
}
