{
 "cells": [
  {
   "cell_type": "markdown",
   "source": [
    "# Computing SHAP Values\n",
    "For the purpose of testing, we have made available our training dataset, which includes both eyes-open and eyes-closed features for the 12 regional interpolated channels. The model parameters have been configured to match those of our top-performing model for this dataset."
   ],
   "metadata": {
    "collapsed": false
   },
   "id": "57db074f341cbb52"
  },
  {
   "cell_type": "code",
   "execution_count": null,
   "id": "initial_id",
   "metadata": {
    "collapsed": true
   },
   "outputs": [],
   "source": [
    "import pandas as pd\n",
    "import shap\n",
    "from xgboost import XGBRegressor\n",
    "from sklearn.metrics import mean_absolute_error\n",
    "from sklearn.model_selection import StratifiedGroupKFold\n",
    "from sklearn.preprocessing import LabelEncoder\n",
    "import pickle"
   ]
  },
  {
   "cell_type": "code",
   "execution_count": null,
   "outputs": [],
   "source": [
    "def load_object(fname):\n",
    "    try:\n",
    "        with open(fname + \".pickle\", \"rb\") as f:\n",
    "            return pickle.load(f)\n",
    "    except Exception as ex:\n",
    "        print(\"Error during unpickling object (Possibly unsupported):\", ex)\n",
    "\n",
    "\n",
    "data = load_object('../../data/example_training_set/training_set')"
   ],
   "metadata": {
    "collapsed": false
   },
   "id": "af3dc09e8b3c0e31"
  },
  {
   "cell_type": "code",
   "execution_count": null,
   "outputs": [],
   "source": [
    "x = data['x']\n",
    "groups = data['group']\n",
    "y_raw = data['y']\n",
    "x_names = data['x_names']\n",
    "\n",
    "print(f\"Dataset contains {len(x)} Samples of size {len(x[0])}\")"
   ],
   "metadata": {
    "collapsed": false
   },
   "id": "d148b23b76a17f1"
  },
  {
   "cell_type": "code",
   "execution_count": null,
   "outputs": [],
   "source": [
    "y_skf = [int(age) for age in y_raw]\n",
    "skf_vals = []\n",
    "skf = StratifiedGroupKFold(n_splits=3, shuffle=True, random_state=126)\n",
    "for fold, (train_index, test_index) in enumerate(skf.split(x, y_skf, groups)):\n",
    "    skf_vals.append((train_index, test_index))"
   ],
   "metadata": {
    "collapsed": false
   },
   "id": "386f73c173427858"
  },
  {
   "cell_type": "code",
   "execution_count": null,
   "outputs": [],
   "source": [
    "y = [int(age*10) for age in y_raw]\n",
    "\n",
    "le = LabelEncoder()\n",
    "le.fit(y)\n",
    "y = le.transform(y)"
   ],
   "metadata": {
    "collapsed": false
   },
   "id": "a159989904089ef9"
  },
  {
   "cell_type": "code",
   "execution_count": null,
   "outputs": [],
   "source": [
    "model_param = {\n",
    "    'n_estimators': 5000,\n",
    "    'learning_rate': 0.0284529908658767,\n",
    "    'max_depth': 3,\n",
    "    'subsample': 0.7,\n",
    "    'colsample_bytree': 0.3,\n",
    "    'booster': 'gbtree',\n",
    "    'reg_lambda': 1,\n",
    "    'reg_alpha': 10,\n",
    "    'gamma': 1.0\n",
    "}"
   ],
   "metadata": {
    "collapsed": false
   },
   "id": "36b0a3543980b1ec"
  },
  {
   "cell_type": "code",
   "execution_count": null,
   "outputs": [],
   "source": [
    "best_fold = 0\n",
    "best_score = 5\n",
    "best_model = None\n",
    "for fold in range(len(skf_vals)):\n",
    "    x_train = [x[i] for i in skf_vals[fold][0]]\n",
    "    x_test = [x[i] for i in skf_vals[fold][1]]\n",
    "    y_train = [y[i] for i in skf_vals[fold][0]]\n",
    "    y_test = [y[i] for i in skf_vals[fold][1]]\n",
    "\n",
    "    model = XGBRegressor(\n",
    "        **model_param\n",
    "    )\n",
    "    model.fit(\n",
    "      x_train,\n",
    "      y_train,\n",
    "      early_stopping_rounds=400,\n",
    "      eval_set=[(x_test, y_test)])\n",
    "\n",
    "    preds = model.predict(x_test)\n",
    "    mae = mean_absolute_error(y_test, preds)\n",
    "    if mae < best_score:\n",
    "        best_fold = fold\n",
    "        best_score = mae\n",
    "        best_model = model"
   ],
   "metadata": {
    "collapsed": false
   },
   "id": "117c310e4ee83e49"
  },
  {
   "cell_type": "code",
   "execution_count": null,
   "outputs": [],
   "source": [
    "x_train = [x[i] for i in skf_vals[best_fold][0]]\n",
    "x_test = [x[i] for i in skf_vals[best_fold][1]]\n",
    "y_train = [y[i] for i in skf_vals[best_fold][0]]\n",
    "y_test = [y[i] for i in skf_vals[best_fold][1]]\n",
    "\n",
    "x_train_df = pd.DataFrame(x_train, columns=x_names)\n",
    "x_test_df = pd.DataFrame(x_test, columns=x_names)\n",
    "\n",
    "explainer = shap.TreeExplainer(best_model)\n",
    "shap_values = explainer.shap_values(x_test_df)"
   ],
   "metadata": {
    "collapsed": false
   },
   "id": "9fdd3303d00aff84"
  }
 ],
 "metadata": {
  "kernelspec": {
   "display_name": "Python 3",
   "language": "python",
   "name": "python3"
  },
  "language_info": {
   "codemirror_mode": {
    "name": "ipython",
    "version": 2
   },
   "file_extension": ".py",
   "mimetype": "text/x-python",
   "name": "python",
   "nbconvert_exporter": "python",
   "pygments_lexer": "ipython2",
   "version": "2.7.6"
  }
 },
 "nbformat": 4,
 "nbformat_minor": 5
}
