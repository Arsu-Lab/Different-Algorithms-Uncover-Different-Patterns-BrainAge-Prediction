{
 "cells": [
  {
   "cell_type": "markdown",
   "source": [
    "# Hyper-Parameter Tuning for BaggedKNN"
   ],
   "metadata": {
    "collapsed": false
   },
   "id": "f8ce93919ca18f68"
  },
  {
   "cell_type": "code",
   "execution_count": null,
   "outputs": [],
   "source": [
    "!pip install scikit-optimize\n",
    "!pip install scikit-learn\n",
    "!pip install pandas\n",
    "!pip install catboost"
   ],
   "metadata": {
    "collapsed": false
   },
   "id": "72f90bc8f4e4ef9f"
  },
  {
   "cell_type": "code",
   "execution_count": null,
   "outputs": [],
   "source": [
    "import pandas as pd\n",
    "from sklearn.ensemble import RandomForestRegressor\n",
    "from sklearn.model_selection import StratifiedGroupKFold\n",
    "from sklearn.preprocessing import LabelEncoder\n",
    "from skopt import BayesSearchCV\n"
   ],
   "metadata": {
    "collapsed": false
   },
   "id": "e7632ae9fd486f9"
  },
  {
   "cell_type": "code",
   "execution_count": null,
   "id": "initial_id",
   "metadata": {
    "collapsed": true
   },
   "outputs": [],
   "source": [
    "x = \"your/eeg_features/as/array\"\n",
    "groups = \"your/groups/as/array\"\n",
    "y_original = \"your/subject_ages/as/array\"\n",
    "\n",
    "y = [int(age*10) for age in y_original]\n",
    "le = LabelEncoder()\n",
    "le.fit(y)\n",
    "y = le.transform(y)"
   ]
  },
  {
   "cell_type": "code",
   "execution_count": null,
   "outputs": [],
   "source": [
    "y_skf = [int(age) for age in y_original]\n",
    "skf_idx = []\n",
    "skf = StratifiedGroupKFold(n_splits=3)\n",
    "for fold, (train_index, test_index) in enumerate(skf.split(x, y_skf, groups)):\n",
    "    skf_idx.append((train_index, test_index))"
   ],
   "metadata": {
    "collapsed": false
   },
   "id": "51f7ce569a5daf10"
  },
  {
   "cell_type": "code",
   "execution_count": null,
   "outputs": [],
   "source": [
    "model = RandomForestRegressor(n_jobs=-2)"
   ],
   "metadata": {
    "collapsed": false
   },
   "id": "cc46584f791a39c1"
  },
  {
   "cell_type": "code",
   "execution_count": null,
   "outputs": [],
   "source": [
    "parameter_space = {\n",
    "    'max_depth': [10, 100],\n",
    "    'min_samples_split': [2, 10],\n",
    "    'min_samples_leaf': [2, 9],\n",
    "    'min_weight_fraction_leaf': [0, 0.5],\n",
    "    'min_impurity_decrease': [0, 0.9],\n",
    "    'n_estimators': [30, 300]\n",
    "}\n",
    "\n",
    "fit_param = {\n",
    "    'early_stopping_rounds': 200,\n",
    "}\n",
    "\n",
    "clf = BayesSearchCV(estimator=model,\n",
    "                    search_spaces=parameter_space,\n",
    "                    fit_params=fit_param,\n",
    "                    cv=skf_idx,\n",
    "                    scoring='neg_mean_absolute_error',\n",
    "                    verbose=4)\n",
    "\n",
    "clf.fit(x, y=y)"
   ],
   "metadata": {
    "collapsed": false
   },
   "id": "8eab797ea82268f8"
  },
  {
   "cell_type": "code",
   "execution_count": null,
   "outputs": [],
   "source": [
    "print(clf.cv_results_)\n",
    "print(clf.best_score_)\n",
    "print(clf.best_params_)\n",
    "results = pd.DataFrame(clf.cv_results_)"
   ],
   "metadata": {
    "collapsed": false
   },
   "id": "4e1ad379b9e00cc1"
  }
 ],
 "metadata": {
  "kernelspec": {
   "display_name": "Python 3",
   "language": "python",
   "name": "python3"
  },
  "language_info": {
   "codemirror_mode": {
    "name": "ipython",
    "version": 2
   },
   "file_extension": ".py",
   "mimetype": "text/x-python",
   "name": "python",
   "nbconvert_exporter": "python",
   "pygments_lexer": "ipython2",
   "version": "2.7.6"
  }
 },
 "nbformat": 4,
 "nbformat_minor": 5
}
