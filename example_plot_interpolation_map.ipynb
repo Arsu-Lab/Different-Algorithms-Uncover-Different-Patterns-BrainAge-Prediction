{
 "cells": [
  {
   "cell_type": "markdown",
   "source": [
    "# Plotting The Regional Interpolation Map\n",
    "This notebook demonstrates how to recreate the plot showing regional channel interpolation groups."
   ],
   "metadata": {
    "collapsed": false
   },
   "id": "1645024bd7c269a8"
  },
  {
   "cell_type": "code",
   "execution_count": null,
   "id": "initial_id",
   "metadata": {
    "collapsed": true
   },
   "outputs": [],
   "source": [
    "import numpy as np\n",
    "from matplotlib import pyplot as plt\n",
    "import matplotlib.patches as mpatches\n",
    "import mne as mne\n",
    "import config.interpolation_maps"
   ]
  },
  {
   "cell_type": "markdown",
   "source": [
    "### Loading The RAW EEG Data\n",
    "First we load the sample eeg recording for eyes closed condition."
   ],
   "metadata": {
    "collapsed": false
   },
   "id": "bdb1e13ce425bb15"
  },
  {
   "cell_type": "code",
   "outputs": [],
   "source": [
    "# Load EEG data files for eyes-closed conditions\n",
    "file_path_eyes_closed = r\"./data/example_eeg/example_subj_EC_raw.fif.gz\"\n",
    "\n",
    "# Read raw EEG data\n",
    "raw_eeg_eyes_closed = mne.io.read_raw(file_path_eyes_closed, preload=True, verbose=False)"
   ],
   "metadata": {
    "collapsed": false
   },
   "id": "574c717ca6bab35c",
   "execution_count": null
  },
  {
   "cell_type": "markdown",
   "source": [
    "### Defining The Helper Functions\n",
    "Next we define a couple of functions to modularize the process."
   ],
   "metadata": {
    "collapsed": false
   },
   "id": "8ce22b279a0a268f"
  },
  {
   "cell_type": "code",
   "outputs": [],
   "source": [
    "def get_2d_coordinates(ch_pos, radius=1.1, projection_scale=1):\n",
    "    \"\"\"Convert 3D coordinates to 2D using azimuthal equidistant projection.\"\"\"\n",
    "    cord_3d = np.array([list(pos) for pos in ch_pos.values()])\n",
    "    points_norm = cord_3d / np.linalg.norm(cord_3d, axis=1, keepdims=True)\n",
    "    x_2d = projection_scale * radius * points_norm[:, 0] / (points_norm[:, 2] + radius)\n",
    "    y_2d = projection_scale * radius * points_norm[:, 1] / (points_norm[:, 2] + radius)\n",
    "    return np.vstack([x_2d, y_2d]).T\n",
    "\n",
    "def compute_region_centroids(plot_cord):\n",
    "    \"\"\"Compute centroids of regions based on 2D coordinates.\"\"\"\n",
    "    return {reg: np.mean(coords, axis=0) for reg, coords in plot_cord.items()}\n",
    "\n",
    "def plot_connections(ax, plot_cord, region_cord, region_colors):\n",
    "    \"\"\"Plot lines from region centroids to channel points.\"\"\"\n",
    "    for reg, cords in plot_cord.items():\n",
    "        for cord_chan in cords:\n",
    "            ax.plot([region_cord[reg][0], cord_chan[0]], [region_cord[reg][1], cord_chan[1]],\n",
    "                    color=region_colors[reg], zorder=1, alpha=0.2)\n",
    "            ax.scatter(cord_chan[0], cord_chan[1], c=region_colors[reg], marker='o', alpha=0.9, zorder=2)\n",
    "\n",
    "def plot_region_centroids(ax, region_cord, region_colors):\n",
    "    \"\"\"Plot region centroids.\"\"\"\n",
    "    for key, cord in region_cord.items():\n",
    "        ax.scatter(cord[0], cord[1], c=region_colors[key], s=600, zorder=3, alpha=0.75)\n",
    "        ax.text(cord[0], cord[1], key, fontsize=11, fontweight='bold', color='white', zorder=4, ha='center', va='center')\n",
    "\n",
    "def plot_regional_interpolation_map(region_map, region_colors):\n",
    "    \"\"\"Creates a plot of the regional interpolation map.\"\"\"\n",
    "    plot_cord = {reg: cord_2d[[ch_names.index(ch) for ch in channels if ch in ch_names]] for reg, channels in region_map.items()}\n",
    "    region_cord = compute_region_centroids(plot_cord)\n",
    "    fig, ax = plt.subplots(figsize=(6, 5))\n",
    "    plot_connections(ax, plot_cord, region_cord, region_colors)\n",
    "    plot_region_centroids(ax, region_cord, region_colors)\n",
    "    \n",
    "    # Create custom legend handles\n",
    "    legend_labels = ['R'+str(i) for i in range(1, len(region_map)+1)]\n",
    "    legend_handles = [mpatches.Patch(color=region_colors[label], label=label) for label in legend_labels]\n",
    "    \n",
    "    # Create the legend with these custom handles\n",
    "    plt.legend(handles=legend_handles, bbox_to_anchor=(1.1, 1), title=\"Regions\")\n",
    "    \n",
    "    plt.show()\n"
   ],
   "metadata": {
    "collapsed": false
   },
   "id": "8bf44d5944a97cfa",
   "execution_count": null
  },
  {
   "cell_type": "markdown",
   "source": [
    "### Interpolation Map With 5, 12, 20 Regions\n",
    "Here we plot the regional interpolation map for our custom region maps defined in [\"interpolation_maps.py\"](https://github.com/Arsu-Lab/Different-Algorithms-Uncover-Different-Patterns-BrainAge-Prediction/blob/main/config/interpolation_maps.py)."
   ],
   "metadata": {
    "collapsed": false
   },
   "id": "e86d0c2bc71a18ee"
  },
  {
   "cell_type": "code",
   "outputs": [],
   "source": [
    "# Load the montage from the raw eeg data\n",
    "montage = raw_eeg_eyes_closed.get_montage()\n",
    "\n",
    "# Load the 3D position coordinates from montage\n",
    "ch_pos = montage.get_positions()['ch_pos']\n",
    "ch_names = list(ch_pos.keys())\n",
    "\n",
    "# Projecting the 3D coordinates to 2D space \n",
    "cord_2d = get_2d_coordinates(ch_pos)\n",
    "\n",
    "# Defining the colores to use for each region\n",
    "colors = config.interpolation_maps.chan_map_colors\n",
    "\n",
    "# Loading the 5 region interpolation map\n",
    "chan_map = config.interpolation_maps.chan_map_R5\n",
    "\n",
    "# Plotting the regional interpolation map\n",
    "plot_regional_interpolation_map(chan_map, colors)"
   ],
   "metadata": {
    "collapsed": false
   },
   "id": "b5fa6364c17e5397",
   "execution_count": null
  },
  {
   "cell_type": "code",
   "outputs": [],
   "source": [
    "# Loading the 12 region interpolation map\n",
    "chan_map = config.interpolation_maps.chan_map_R12\n",
    "\n",
    "# Plotting the regional interpolation map\n",
    "plot_regional_interpolation_map(chan_map, colors)"
   ],
   "metadata": {
    "collapsed": false
   },
   "id": "4afb6387120509b4",
   "execution_count": null
  },
  {
   "cell_type": "code",
   "outputs": [],
   "source": [
    "# Loading the 20 region interpolation map\n",
    "chan_map = config.interpolation_maps.chan_map_R20\n",
    "\n",
    "# Plotting the regional interpolation map\n",
    "plot_regional_interpolation_map(chan_map, colors)"
   ],
   "metadata": {
    "collapsed": false
   },
   "id": "182aa65a9d301e9d",
   "execution_count": null
  }
 ],
 "metadata": {
  "kernelspec": {
   "display_name": "Python 3",
   "language": "python",
   "name": "python3"
  },
  "language_info": {
   "codemirror_mode": {
    "name": "ipython",
    "version": 2
   },
   "file_extension": ".py",
   "mimetype": "text/x-python",
   "name": "python",
   "nbconvert_exporter": "python",
   "pygments_lexer": "ipython2",
   "version": "2.7.6"
  }
 },
 "nbformat": 4,
 "nbformat_minor": 5
}
